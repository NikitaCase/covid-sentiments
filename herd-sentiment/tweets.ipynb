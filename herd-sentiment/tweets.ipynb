{
 "cells": [
  {
   "cell_type": "code",
   "execution_count": null,
   "metadata": {},
   "outputs": [],
   "source": []
  },
  {
   "cell_type": "code",
   "execution_count": 1,
   "metadata": {},
   "outputs": [],
   "source": [
    "# Import tweepy \n",
    "import tweepy\n",
    "from config import *"
   ]
  },
  {
   "cell_type": "code",
   "execution_count": 2,
   "metadata": {},
   "outputs": [],
   "source": [
    "# Import other dependencies\n",
    "import pandas as pd\n",
    "import csv\n",
    "import datetime as dt \n",
    "import pprint"
   ]
  },
  {
   "cell_type": "code",
   "execution_count": 3,
   "metadata": {},
   "outputs": [],
   "source": [
    "# Tweepy Setup\n",
    "auth = tweepy.OAuthHandler(api_key, api_secret_key)\n",
    "auth.set_access_token(access_token, access_token_secret)\n",
    "api = tweepy.API(auth)"
   ]
  },
  {
   "cell_type": "code",
   "execution_count": 4,
   "metadata": {},
   "outputs": [],
   "source": [
    "# Define some search terms\n",
    "# Limited number of API calls so want to limit unusable data \n",
    "\n",
    "search_terms = ['covid','vaccine','covid vaccine','covid-19 vaccine','pfizer','moderna']\n",
    "end_date = dt.date(2021,3,1)\n",
    "limit = 1"
   ]
  },
  {
   "cell_type": "code",
   "execution_count": 7,
   "metadata": {},
   "outputs": [
    {
     "data": {
      "text/plain": [
       "[{'created': datetime.datetime(2021, 2, 28, 23, 55, 6),\n",
       "  'id_str': '1366175122780995584',\n",
       "  'text': 'RT @ABC: As Johnson &amp; and Johnson is set to become the third COVID-19 vaccine granted authorization for use in the U.S., the manufacturer i…',\n",
       "  'user_id': 294680396,\n",
       "  'screen_name': 'AlasAndres',\n",
       "  'location': 'El Salvador',\n",
       "  'followers_count': 322,\n",
       "  'user_favourites_count': 1255,\n",
       "  'time_zone': None,\n",
       "  'geo_enabled': True,\n",
       "  'verified': False,\n",
       "  'status_count': 3536,\n",
       "  'geo': None,\n",
       "  'coords': None,\n",
       "  'place': None,\n",
       "  'retweet_count': 148,\n",
       "  'tweet_favourite_count': 0,\n",
       "  'retweeted': False,\n",
       "  'lang': 'en'}]"
      ]
     },
     "execution_count": 7,
     "metadata": {},
     "output_type": "execute_result"
    }
   ],
   "source": [
    "# Create empty containers for scraped data \n",
    "data = []\n",
    "raw =[]\n",
    "\n",
    "# Create api call \n",
    "tweets = tweepy.Cursor(api.search, until=end_date, location='canada', place='canada', lang ='en', retweeted=False, q=search_terms, tweet_mode='extended').items(limit)\n",
    "# parse response for useful data \n",
    "for t in tweets: \n",
    "    tweet ={\n",
    "        'created' :t.created_at,\n",
    "        'id_str' : t.id_str,\n",
    "        'text' : t.full_text,\n",
    "        'user_id' :t.user.id,\n",
    "        'screen_name': t.user.screen_name,\n",
    "        'location': t.user.location,\n",
    "        'followers_count': t.user.followers_count,\n",
    "        'user_favourites_count': t.user.favourites_count,\n",
    "        'time_zone' :t.user.time_zone,\n",
    "        'geo_enabled' :t.user.geo_enabled,\n",
    "        'verified' :t.user.verified,\n",
    "        'status_count': t.user.statuses_count,\n",
    "        'geo':t.geo,\n",
    "        'coords':t.coordinates,\n",
    "        'place':t.place,\n",
    "        'retweet_count': t.retweet_count,\n",
    "        'tweet_favourite_count' : t.favorite_count,\n",
    "        'retweeted' : t.retweeted,\n",
    "        'lang':t.lang\n",
    "    }\n",
    "    # add sorted data to one list \n",
    "    data.append(tweet)\n",
    "    \n",
    "    # keep raw data in case I realize later that I've removed something important \n",
    "    raw.append(t)\n",
    "\n",
    "data"
   ]
  },
  {
   "cell_type": "code",
   "execution_count": 8,
   "metadata": {},
   "outputs": [
    {
     "data": {
      "text/html": [
       "<div>\n",
       "<style scoped>\n",
       "    .dataframe tbody tr th:only-of-type {\n",
       "        vertical-align: middle;\n",
       "    }\n",
       "\n",
       "    .dataframe tbody tr th {\n",
       "        vertical-align: top;\n",
       "    }\n",
       "\n",
       "    .dataframe thead th {\n",
       "        text-align: right;\n",
       "    }\n",
       "</style>\n",
       "<table border=\"1\" class=\"dataframe\">\n",
       "  <thead>\n",
       "    <tr style=\"text-align: right;\">\n",
       "      <th></th>\n",
       "      <th>created</th>\n",
       "      <th>id_str</th>\n",
       "      <th>text</th>\n",
       "      <th>user_id</th>\n",
       "      <th>screen_name</th>\n",
       "      <th>location</th>\n",
       "      <th>followers_count</th>\n",
       "      <th>user_favourites_count</th>\n",
       "      <th>time_zone</th>\n",
       "      <th>geo_enabled</th>\n",
       "      <th>verified</th>\n",
       "      <th>status_count</th>\n",
       "      <th>geo</th>\n",
       "      <th>coords</th>\n",
       "      <th>place</th>\n",
       "      <th>retweet_count</th>\n",
       "      <th>tweet_favourite_count</th>\n",
       "      <th>retweeted</th>\n",
       "      <th>lang</th>\n",
       "    </tr>\n",
       "  </thead>\n",
       "  <tbody>\n",
       "    <tr>\n",
       "      <th>0</th>\n",
       "      <td>2021-02-28 23:55:06</td>\n",
       "      <td>1366175122780995584</td>\n",
       "      <td>RT @ABC: As Johnson &amp;amp; and Johnson is set t...</td>\n",
       "      <td>294680396</td>\n",
       "      <td>AlasAndres</td>\n",
       "      <td>El Salvador</td>\n",
       "      <td>322</td>\n",
       "      <td>1255</td>\n",
       "      <td>None</td>\n",
       "      <td>True</td>\n",
       "      <td>False</td>\n",
       "      <td>3536</td>\n",
       "      <td>None</td>\n",
       "      <td>None</td>\n",
       "      <td>None</td>\n",
       "      <td>148</td>\n",
       "      <td>0</td>\n",
       "      <td>False</td>\n",
       "      <td>en</td>\n",
       "    </tr>\n",
       "  </tbody>\n",
       "</table>\n",
       "</div>"
      ],
      "text/plain": [
       "              created               id_str  \\\n",
       "0 2021-02-28 23:55:06  1366175122780995584   \n",
       "\n",
       "                                                text    user_id screen_name  \\\n",
       "0  RT @ABC: As Johnson &amp; and Johnson is set t...  294680396  AlasAndres   \n",
       "\n",
       "      location  followers_count  user_favourites_count time_zone  geo_enabled  \\\n",
       "0  El Salvador              322                   1255      None         True   \n",
       "\n",
       "   verified  status_count   geo coords place  retweet_count  \\\n",
       "0     False          3536  None   None  None            148   \n",
       "\n",
       "   tweet_favourite_count  retweeted lang  \n",
       "0                      0      False   en  "
      ]
     },
     "execution_count": 8,
     "metadata": {},
     "output_type": "execute_result"
    }
   ],
   "source": [
    "tweets_df = pd.DataFrame(data)\n",
    "tweets_df.head()"
   ]
  },
  {
   "cell_type": "code",
   "execution_count": 10,
   "metadata": {},
   "outputs": [],
   "source": [
    "tweets_df.to_csv('test.csv', index=False, encoding='UTF-8')"
   ]
  },
  {
   "cell_type": "code",
   "execution_count": 11,
   "metadata": {},
   "outputs": [
    {
     "name": "stdout",
     "output_type": "stream",
     "text": [
      "[Status(_api=<tweepy.api.API object at 0x0000023D9171C2B0>, _json={'created_at': 'Sun Feb 28 23:55:06 +0000 2021', 'id': 1366175122780995584, 'id_str': '1366175122780995584', 'full_text': 'RT @ABC: As Johnson &amp; and Johnson is set to become the third COVID-19 vaccine granted authorization for use in the U.S., the manufacturer i…', 'truncated': False, 'display_text_range': [0, 144], 'entities': {'hashtags': [], 'symbols': [], 'user_mentions': [{'screen_name': 'ABC', 'name': 'ABC News', 'id': 28785486, 'id_str': '28785486', 'indices': [3, 7]}], 'urls': []}, 'metadata': {'iso_language_code': 'en', 'result_type': 'recent'}, 'source': '<a href=\"http://twitter.com/download/iphone\" rel=\"nofollow\">Twitter for iPhone</a>', 'in_reply_to_status_id': None, 'in_reply_to_status_id_str': None, 'in_reply_to_user_id': None, 'in_reply_to_user_id_str': None, 'in_reply_to_screen_name': None, 'user': {'id': 294680396, 'id_str': '294680396', 'name': 'Andrés Alas Domínguez', 'screen_name': 'AlasAndres', 'location': 'El Salvador', 'description': 'Católico | Ingeniero Industrial @UCA_ES | Emprendedor | Amante del fútbol ⚽️ “Cuando llega la oscuridad, se pueden ver las estrellas.”', 'url': None, 'entities': {'description': {'urls': []}}, 'protected': False, 'followers_count': 322, 'friends_count': 1026, 'listed_count': 1, 'created_at': 'Sat May 07 15:37:42 +0000 2011', 'favourites_count': 1255, 'utc_offset': None, 'time_zone': None, 'geo_enabled': True, 'verified': False, 'statuses_count': 3536, 'lang': None, 'contributors_enabled': False, 'is_translator': False, 'is_translation_enabled': False, 'profile_background_color': '022330', 'profile_background_image_url': 'http://abs.twimg.com/images/themes/theme15/bg.png', 'profile_background_image_url_https': 'https://abs.twimg.com/images/themes/theme15/bg.png', 'profile_background_tile': False, 'profile_image_url': 'http://pbs.twimg.com/profile_images/1276930373570695168/yOZQolh8_normal.jpg', 'profile_image_url_https': 'https://pbs.twimg.com/profile_images/1276930373570695168/yOZQolh8_normal.jpg', 'profile_banner_url': 'https://pbs.twimg.com/profile_banners/294680396/1612660121', 'profile_link_color': '0084B4', 'profile_sidebar_border_color': 'A8C7F7', 'profile_sidebar_fill_color': 'C0DFEC', 'profile_text_color': '333333', 'profile_use_background_image': True, 'has_extended_profile': False, 'default_profile': False, 'default_profile_image': False, 'following': False, 'follow_request_sent': False, 'notifications': False, 'translator_type': 'none'}, 'geo': None, 'coordinates': None, 'place': None, 'contributors': None, 'retweeted_status': {'created_at': 'Sat Feb 27 14:15:35 +0000 2021', 'id': 1365666893881892866, 'id_str': '1365666893881892866', 'full_text': 'As Johnson &amp; and Johnson is set to become the third COVID-19 vaccine granted authorization for use in the U.S., the manufacturer is aiming for 100m doses distributed by the end of June, as Pfizer and Moderna ramp up their distribution across the country. https://t.co/9QFNpKD3uv https://t.co/b4Za7N89Zv', 'truncated': False, 'display_text_range': [0, 282], 'entities': {'hashtags': [], 'symbols': [], 'user_mentions': [], 'urls': [{'url': 'https://t.co/9QFNpKD3uv', 'expanded_url': 'https://abcn.ws/3aVClwq', 'display_url': 'abcn.ws/3aVClwq', 'indices': [259, 282]}], 'media': [{'id': 1365666892099297284, 'id_str': '1365666892099297284', 'indices': [283, 306], 'media_url': 'http://pbs.twimg.com/media/EvPSzYEXIAQ-zH7.jpg', 'media_url_https': 'https://pbs.twimg.com/media/EvPSzYEXIAQ-zH7.jpg', 'url': 'https://t.co/b4Za7N89Zv', 'display_url': 'pic.twitter.com/b4Za7N89Zv', 'expanded_url': 'https://twitter.com/ABC/status/1365666893881892866/photo/1', 'type': 'photo', 'sizes': {'thumb': {'w': 150, 'h': 150, 'resize': 'crop'}, 'large': {'w': 1200, 'h': 1200, 'resize': 'fit'}, 'medium': {'w': 1200, 'h': 1200, 'resize': 'fit'}, 'small': {'w': 680, 'h': 680, 'resize': 'fit'}}}]}, 'extended_entities': {'media': [{'id': 1365666892099297284, 'id_str': '1365666892099297284', 'indices': [283, 306], 'media_url': 'http://pbs.twimg.com/media/EvPSzYEXIAQ-zH7.jpg', 'media_url_https': 'https://pbs.twimg.com/media/EvPSzYEXIAQ-zH7.jpg', 'url': 'https://t.co/b4Za7N89Zv', 'display_url': 'pic.twitter.com/b4Za7N89Zv', 'expanded_url': 'https://twitter.com/ABC/status/1365666893881892866/photo/1', 'type': 'photo', 'sizes': {'thumb': {'w': 150, 'h': 150, 'resize': 'crop'}, 'large': {'w': 1200, 'h': 1200, 'resize': 'fit'}, 'medium': {'w': 1200, 'h': 1200, 'resize': 'fit'}, 'small': {'w': 680, 'h': 680, 'resize': 'fit'}}}]}, 'metadata': {'iso_language_code': 'en', 'result_type': 'recent'}, 'source': '<a href=\"http://www.socialflow.com\" rel=\"nofollow\">SocialFlow</a>', 'in_reply_to_status_id': None, 'in_reply_to_status_id_str': None, 'in_reply_to_user_id': None, 'in_reply_to_user_id_str': None, 'in_reply_to_screen_name': None, 'user': {'id': 28785486, 'id_str': '28785486', 'name': 'ABC News', 'screen_name': 'ABC', 'location': 'New York City / Worldwide', 'description': 'All the news and information you need to see, curated by the @ABC News team. https://t.co/PKeobr4xt0 Tips: https://t.co/2ICEX6CuXd', 'url': 'https://t.co/B4vihbwCGa', 'entities': {'url': {'urls': [{'url': 'https://t.co/B4vihbwCGa', 'expanded_url': 'https://abcnews.go.com/', 'display_url': 'abcnews.go.com', 'indices': [0, 23]}]}, 'description': {'urls': [{'url': 'https://t.co/PKeobr4xt0', 'expanded_url': 'http://instagram.com/abcnews', 'display_url': 'instagram.com/abcnews', 'indices': [77, 100]}, {'url': 'https://t.co/2ICEX6CuXd', 'expanded_url': 'https://abcn.ws/tips', 'display_url': 'abcn.ws/tips', 'indices': [107, 130]}]}}, 'protected': False, 'followers_count': 16561974, 'friends_count': 516, 'listed_count': 61774, 'created_at': 'Sat Apr 04 12:40:32 +0000 2009', 'favourites_count': 23, 'utc_offset': None, 'time_zone': None, 'geo_enabled': True, 'verified': True, 'statuses_count': 338138, 'lang': None, 'contributors_enabled': False, 'is_translator': False, 'is_translation_enabled': True, 'profile_background_color': '6E8EB5', 'profile_background_image_url': 'http://abs.twimg.com/images/themes/theme1/bg.png', 'profile_background_image_url_https': 'https://abs.twimg.com/images/themes/theme1/bg.png', 'profile_background_tile': False, 'profile_image_url': 'http://pbs.twimg.com/profile_images/1082358814819536896/19QbYCgF_normal.jpg', 'profile_image_url_https': 'https://pbs.twimg.com/profile_images/1082358814819536896/19QbYCgF_normal.jpg', 'profile_banner_url': 'https://pbs.twimg.com/profile_banners/28785486/1505493568', 'profile_link_color': '336699', 'profile_sidebar_border_color': 'FFFFFF', 'profile_sidebar_fill_color': 'DDEEF6', 'profile_text_color': '333333', 'profile_use_background_image': True, 'has_extended_profile': False, 'default_profile': False, 'default_profile_image': False, 'following': False, 'follow_request_sent': False, 'notifications': False, 'translator_type': 'regular'}, 'geo': None, 'coordinates': None, 'place': None, 'contributors': None, 'is_quote_status': False, 'retweet_count': 148, 'favorite_count': 378, 'favorited': False, 'retweeted': False, 'possibly_sensitive': False, 'lang': 'en'}, 'is_quote_status': False, 'retweet_count': 148, 'favorite_count': 0, 'favorited': False, 'retweeted': False, 'lang': 'en'}, created_at=datetime.datetime(2021, 2, 28, 23, 55, 6), id=1366175122780995584, id_str='1366175122780995584', full_text='RT @ABC: As Johnson &amp; and Johnson is set to become the third COVID-19 vaccine granted authorization for use in the U.S., the manufacturer i…', truncated=False, display_text_range=[0, 144], entities={'hashtags': [], 'symbols': [], 'user_mentions': [{'screen_name': 'ABC', 'name': 'ABC News', 'id': 28785486, 'id_str': '28785486', 'indices': [3, 7]}], 'urls': []}, metadata={'iso_language_code': 'en', 'result_type': 'recent'}, source='Twitter for iPhone', source_url='http://twitter.com/download/iphone', in_reply_to_status_id=None, in_reply_to_status_id_str=None, in_reply_to_user_id=None, in_reply_to_user_id_str=None, in_reply_to_screen_name=None, author=User(_api=<tweepy.api.API object at 0x0000023D9171C2B0>, _json={'id': 294680396, 'id_str': '294680396', 'name': 'Andrés Alas Domínguez', 'screen_name': 'AlasAndres', 'location': 'El Salvador', 'description': 'Católico | Ingeniero Industrial @UCA_ES | Emprendedor | Amante del fútbol ⚽️ “Cuando llega la oscuridad, se pueden ver las estrellas.”', 'url': None, 'entities': {'description': {'urls': []}}, 'protected': False, 'followers_count': 322, 'friends_count': 1026, 'listed_count': 1, 'created_at': 'Sat May 07 15:37:42 +0000 2011', 'favourites_count': 1255, 'utc_offset': None, 'time_zone': None, 'geo_enabled': True, 'verified': False, 'statuses_count': 3536, 'lang': None, 'contributors_enabled': False, 'is_translator': False, 'is_translation_enabled': False, 'profile_background_color': '022330', 'profile_background_image_url': 'http://abs.twimg.com/images/themes/theme15/bg.png', 'profile_background_image_url_https': 'https://abs.twimg.com/images/themes/theme15/bg.png', 'profile_background_tile': False, 'profile_image_url': 'http://pbs.twimg.com/profile_images/1276930373570695168/yOZQolh8_normal.jpg', 'profile_image_url_https': 'https://pbs.twimg.com/profile_images/1276930373570695168/yOZQolh8_normal.jpg', 'profile_banner_url': 'https://pbs.twimg.com/profile_banners/294680396/1612660121', 'profile_link_color': '0084B4', 'profile_sidebar_border_color': 'A8C7F7', 'profile_sidebar_fill_color': 'C0DFEC', 'profile_text_color': '333333', 'profile_use_background_image': True, 'has_extended_profile': False, 'default_profile': False, 'default_profile_image': False, 'following': False, 'follow_request_sent': False, 'notifications': False, 'translator_type': 'none'}, id=294680396, id_str='294680396', name='Andrés Alas Domínguez', screen_name='AlasAndres', location='El Salvador', description='Católico | Ingeniero Industrial @UCA_ES | Emprendedor | Amante del fútbol ⚽️ “Cuando llega la oscuridad, se pueden ver las estrellas.”', url=None, entities={'description': {'urls': []}}, protected=False, followers_count=322, friends_count=1026, listed_count=1, created_at=datetime.datetime(2011, 5, 7, 15, 37, 42), favourites_count=1255, utc_offset=None, time_zone=None, geo_enabled=True, verified=False, statuses_count=3536, lang=None, contributors_enabled=False, is_translator=False, is_translation_enabled=False, profile_background_color='022330', profile_background_image_url='http://abs.twimg.com/images/themes/theme15/bg.png', profile_background_image_url_https='https://abs.twimg.com/images/themes/theme15/bg.png', profile_background_tile=False, profile_image_url='http://pbs.twimg.com/profile_images/1276930373570695168/yOZQolh8_normal.jpg', profile_image_url_https='https://pbs.twimg.com/profile_images/1276930373570695168/yOZQolh8_normal.jpg', profile_banner_url='https://pbs.twimg.com/profile_banners/294680396/1612660121', profile_link_color='0084B4', profile_sidebar_border_color='A8C7F7', profile_sidebar_fill_color='C0DFEC', profile_text_color='333333', profile_use_background_image=True, has_extended_profile=False, default_profile=False, default_profile_image=False, following=False, follow_request_sent=False, notifications=False, translator_type='none'), user=User(_api=<tweepy.api.API object at 0x0000023D9171C2B0>, _json={'id': 294680396, 'id_str': '294680396', 'name': 'Andrés Alas Domínguez', 'screen_name': 'AlasAndres', 'location': 'El Salvador', 'description': 'Católico | Ingeniero Industrial @UCA_ES | Emprendedor | Amante del fútbol ⚽️ “Cuando llega la oscuridad, se pueden ver las estrellas.”', 'url': None, 'entities': {'description': {'urls': []}}, 'protected': False, 'followers_count': 322, 'friends_count': 1026, 'listed_count': 1, 'created_at': 'Sat May 07 15:37:42 +0000 2011', 'favourites_count': 1255, 'utc_offset': None, 'time_zone': None, 'geo_enabled': True, 'verified': False, 'statuses_count': 3536, 'lang': None, 'contributors_enabled': False, 'is_translator': False, 'is_translation_enabled': False, 'profile_background_color': '022330', 'profile_background_image_url': 'http://abs.twimg.com/images/themes/theme15/bg.png', 'profile_background_image_url_https': 'https://abs.twimg.com/images/themes/theme15/bg.png', 'profile_background_tile': False, 'profile_image_url': 'http://pbs.twimg.com/profile_images/1276930373570695168/yOZQolh8_normal.jpg', 'profile_image_url_https': 'https://pbs.twimg.com/profile_images/1276930373570695168/yOZQolh8_normal.jpg', 'profile_banner_url': 'https://pbs.twimg.com/profile_banners/294680396/1612660121', 'profile_link_color': '0084B4', 'profile_sidebar_border_color': 'A8C7F7', 'profile_sidebar_fill_color': 'C0DFEC', 'profile_text_color': '333333', 'profile_use_background_image': True, 'has_extended_profile': False, 'default_profile': False, 'default_profile_image': False, 'following': False, 'follow_request_sent': False, 'notifications': False, 'translator_type': 'none'}, id=294680396, id_str='294680396', name='Andrés Alas Domínguez', screen_name='AlasAndres', location='El Salvador', description='Católico | Ingeniero Industrial @UCA_ES | Emprendedor | Amante del fútbol ⚽️ “Cuando llega la oscuridad, se pueden ver las estrellas.”', url=None, entities={'description': {'urls': []}}, protected=False, followers_count=322, friends_count=1026, listed_count=1, created_at=datetime.datetime(2011, 5, 7, 15, 37, 42), favourites_count=1255, utc_offset=None, time_zone=None, geo_enabled=True, verified=False, statuses_count=3536, lang=None, contributors_enabled=False, is_translator=False, is_translation_enabled=False, profile_background_color='022330', profile_background_image_url='http://abs.twimg.com/images/themes/theme15/bg.png', profile_background_image_url_https='https://abs.twimg.com/images/themes/theme15/bg.png', profile_background_tile=False, profile_image_url='http://pbs.twimg.com/profile_images/1276930373570695168/yOZQolh8_normal.jpg', profile_image_url_https='https://pbs.twimg.com/profile_images/1276930373570695168/yOZQolh8_normal.jpg', profile_banner_url='https://pbs.twimg.com/profile_banners/294680396/1612660121', profile_link_color='0084B4', profile_sidebar_border_color='A8C7F7', profile_sidebar_fill_color='C0DFEC', profile_text_color='333333', profile_use_background_image=True, has_extended_profile=False, default_profile=False, default_profile_image=False, following=False, follow_request_sent=False, notifications=False, translator_type='none'), geo=None, coordinates=None, place=None, contributors=None, retweeted_status=Status(_api=<tweepy.api.API object at 0x0000023D9171C2B0>, _json={'created_at': 'Sat Feb 27 14:15:35 +0000 2021', 'id': 1365666893881892866, 'id_str': '1365666893881892866', 'full_text': 'As Johnson &amp; and Johnson is set to become the third COVID-19 vaccine granted authorization for use in the U.S., the manufacturer is aiming for 100m doses distributed by the end of June, as Pfizer and Moderna ramp up their distribution across the country. https://t.co/9QFNpKD3uv https://t.co/b4Za7N89Zv', 'truncated': False, 'display_text_range': [0, 282], 'entities': {'hashtags': [], 'symbols': [], 'user_mentions': [], 'urls': [{'url': 'https://t.co/9QFNpKD3uv', 'expanded_url': 'https://abcn.ws/3aVClwq', 'display_url': 'abcn.ws/3aVClwq', 'indices': [259, 282]}], 'media': [{'id': 1365666892099297284, 'id_str': '1365666892099297284', 'indices': [283, 306], 'media_url': 'http://pbs.twimg.com/media/EvPSzYEXIAQ-zH7.jpg', 'media_url_https': 'https://pbs.twimg.com/media/EvPSzYEXIAQ-zH7.jpg', 'url': 'https://t.co/b4Za7N89Zv', 'display_url': 'pic.twitter.com/b4Za7N89Zv', 'expanded_url': 'https://twitter.com/ABC/status/1365666893881892866/photo/1', 'type': 'photo', 'sizes': {'thumb': {'w': 150, 'h': 150, 'resize': 'crop'}, 'large': {'w': 1200, 'h': 1200, 'resize': 'fit'}, 'medium': {'w': 1200, 'h': 1200, 'resize': 'fit'}, 'small': {'w': 680, 'h': 680, 'resize': 'fit'}}}]}, 'extended_entities': {'media': [{'id': 1365666892099297284, 'id_str': '1365666892099297284', 'indices': [283, 306], 'media_url': 'http://pbs.twimg.com/media/EvPSzYEXIAQ-zH7.jpg', 'media_url_https': 'https://pbs.twimg.com/media/EvPSzYEXIAQ-zH7.jpg', 'url': 'https://t.co/b4Za7N89Zv', 'display_url': 'pic.twitter.com/b4Za7N89Zv', 'expanded_url': 'https://twitter.com/ABC/status/1365666893881892866/photo/1', 'type': 'photo', 'sizes': {'thumb': {'w': 150, 'h': 150, 'resize': 'crop'}, 'large': {'w': 1200, 'h': 1200, 'resize': 'fit'}, 'medium': {'w': 1200, 'h': 1200, 'resize': 'fit'}, 'small': {'w': 680, 'h': 680, 'resize': 'fit'}}}]}, 'metadata': {'iso_language_code': 'en', 'result_type': 'recent'}, 'source': '<a href=\"http://www.socialflow.com\" rel=\"nofollow\">SocialFlow</a>', 'in_reply_to_status_id': None, 'in_reply_to_status_id_str': None, 'in_reply_to_user_id': None, 'in_reply_to_user_id_str': None, 'in_reply_to_screen_name': None, 'user': {'id': 28785486, 'id_str': '28785486', 'name': 'ABC News', 'screen_name': 'ABC', 'location': 'New York City / Worldwide', 'description': 'All the news and information you need to see, curated by the @ABC News team. https://t.co/PKeobr4xt0 Tips: https://t.co/2ICEX6CuXd', 'url': 'https://t.co/B4vihbwCGa', 'entities': {'url': {'urls': [{'url': 'https://t.co/B4vihbwCGa', 'expanded_url': 'https://abcnews.go.com/', 'display_url': 'abcnews.go.com', 'indices': [0, 23]}]}, 'description': {'urls': [{'url': 'https://t.co/PKeobr4xt0', 'expanded_url': 'http://instagram.com/abcnews', 'display_url': 'instagram.com/abcnews', 'indices': [77, 100]}, {'url': 'https://t.co/2ICEX6CuXd', 'expanded_url': 'https://abcn.ws/tips', 'display_url': 'abcn.ws/tips', 'indices': [107, 130]}]}}, 'protected': False, 'followers_count': 16561974, 'friends_count': 516, 'listed_count': 61774, 'created_at': 'Sat Apr 04 12:40:32 +0000 2009', 'favourites_count': 23, 'utc_offset': None, 'time_zone': None, 'geo_enabled': True, 'verified': True, 'statuses_count': 338138, 'lang': None, 'contributors_enabled': False, 'is_translator': False, 'is_translation_enabled': True, 'profile_background_color': '6E8EB5', 'profile_background_image_url': 'http://abs.twimg.com/images/themes/theme1/bg.png', 'profile_background_image_url_https': 'https://abs.twimg.com/images/themes/theme1/bg.png', 'profile_background_tile': False, 'profile_image_url': 'http://pbs.twimg.com/profile_images/1082358814819536896/19QbYCgF_normal.jpg', 'profile_image_url_https': 'https://pbs.twimg.com/profile_images/1082358814819536896/19QbYCgF_normal.jpg', 'profile_banner_url': 'https://pbs.twimg.com/profile_banners/28785486/1505493568', 'profile_link_color': '336699', 'profile_sidebar_border_color': 'FFFFFF', 'profile_sidebar_fill_color': 'DDEEF6', 'profile_text_color': '333333', 'profile_use_background_image': True, 'has_extended_profile': False, 'default_profile': False, 'default_profile_image': False, 'following': False, 'follow_request_sent': False, 'notifications': False, 'translator_type': 'regular'}, 'geo': None, 'coordinates': None, 'place': None, 'contributors': None, 'is_quote_status': False, 'retweet_count': 148, 'favorite_count': 378, 'favorited': False, 'retweeted': False, 'possibly_sensitive': False, 'lang': 'en'}, created_at=datetime.datetime(2021, 2, 27, 14, 15, 35), id=1365666893881892866, id_str='1365666893881892866', full_text='As Johnson &amp; and Johnson is set to become the third COVID-19 vaccine granted authorization for use in the U.S., the manufacturer is aiming for 100m doses distributed by the end of June, as Pfizer and Moderna ramp up their distribution across the country. https://t.co/9QFNpKD3uv https://t.co/b4Za7N89Zv', truncated=False, display_text_range=[0, 282], entities={'hashtags': [], 'symbols': [], 'user_mentions': [], 'urls': [{'url': 'https://t.co/9QFNpKD3uv', 'expanded_url': 'https://abcn.ws/3aVClwq', 'display_url': 'abcn.ws/3aVClwq', 'indices': [259, 282]}], 'media': [{'id': 1365666892099297284, 'id_str': '1365666892099297284', 'indices': [283, 306], 'media_url': 'http://pbs.twimg.com/media/EvPSzYEXIAQ-zH7.jpg', 'media_url_https': 'https://pbs.twimg.com/media/EvPSzYEXIAQ-zH7.jpg', 'url': 'https://t.co/b4Za7N89Zv', 'display_url': 'pic.twitter.com/b4Za7N89Zv', 'expanded_url': 'https://twitter.com/ABC/status/1365666893881892866/photo/1', 'type': 'photo', 'sizes': {'thumb': {'w': 150, 'h': 150, 'resize': 'crop'}, 'large': {'w': 1200, 'h': 1200, 'resize': 'fit'}, 'medium': {'w': 1200, 'h': 1200, 'resize': 'fit'}, 'small': {'w': 680, 'h': 680, 'resize': 'fit'}}}]}, extended_entities={'media': [{'id': 1365666892099297284, 'id_str': '1365666892099297284', 'indices': [283, 306], 'media_url': 'http://pbs.twimg.com/media/EvPSzYEXIAQ-zH7.jpg', 'media_url_https': 'https://pbs.twimg.com/media/EvPSzYEXIAQ-zH7.jpg', 'url': 'https://t.co/b4Za7N89Zv', 'display_url': 'pic.twitter.com/b4Za7N89Zv', 'expanded_url': 'https://twitter.com/ABC/status/1365666893881892866/photo/1', 'type': 'photo', 'sizes': {'thumb': {'w': 150, 'h': 150, 'resize': 'crop'}, 'large': {'w': 1200, 'h': 1200, 'resize': 'fit'}, 'medium': {'w': 1200, 'h': 1200, 'resize': 'fit'}, 'small': {'w': 680, 'h': 680, 'resize': 'fit'}}}]}, metadata={'iso_language_code': 'en', 'result_type': 'recent'}, source='SocialFlow', source_url='http://www.socialflow.com', in_reply_to_status_id=None, in_reply_to_status_id_str=None, in_reply_to_user_id=None, in_reply_to_user_id_str=None, in_reply_to_screen_name=None, author=User(_api=<tweepy.api.API object at 0x0000023D9171C2B0>, _json={'id': 28785486, 'id_str': '28785486', 'name': 'ABC News', 'screen_name': 'ABC', 'location': 'New York City / Worldwide', 'description': 'All the news and information you need to see, curated by the @ABC News team. https://t.co/PKeobr4xt0 Tips: https://t.co/2ICEX6CuXd', 'url': 'https://t.co/B4vihbwCGa', 'entities': {'url': {'urls': [{'url': 'https://t.co/B4vihbwCGa', 'expanded_url': 'https://abcnews.go.com/', 'display_url': 'abcnews.go.com', 'indices': [0, 23]}]}, 'description': {'urls': [{'url': 'https://t.co/PKeobr4xt0', 'expanded_url': 'http://instagram.com/abcnews', 'display_url': 'instagram.com/abcnews', 'indices': [77, 100]}, {'url': 'https://t.co/2ICEX6CuXd', 'expanded_url': 'https://abcn.ws/tips', 'display_url': 'abcn.ws/tips', 'indices': [107, 130]}]}}, 'protected': False, 'followers_count': 16561974, 'friends_count': 516, 'listed_count': 61774, 'created_at': 'Sat Apr 04 12:40:32 +0000 2009', 'favourites_count': 23, 'utc_offset': None, 'time_zone': None, 'geo_enabled': True, 'verified': True, 'statuses_count': 338138, 'lang': None, 'contributors_enabled': False, 'is_translator': False, 'is_translation_enabled': True, 'profile_background_color': '6E8EB5', 'profile_background_image_url': 'http://abs.twimg.com/images/themes/theme1/bg.png', 'profile_background_image_url_https': 'https://abs.twimg.com/images/themes/theme1/bg.png', 'profile_background_tile': False, 'profile_image_url': 'http://pbs.twimg.com/profile_images/1082358814819536896/19QbYCgF_normal.jpg', 'profile_image_url_https': 'https://pbs.twimg.com/profile_images/1082358814819536896/19QbYCgF_normal.jpg', 'profile_banner_url': 'https://pbs.twimg.com/profile_banners/28785486/1505493568', 'profile_link_color': '336699', 'profile_sidebar_border_color': 'FFFFFF', 'profile_sidebar_fill_color': 'DDEEF6', 'profile_text_color': '333333', 'profile_use_background_image': True, 'has_extended_profile': False, 'default_profile': False, 'default_profile_image': False, 'following': False, 'follow_request_sent': False, 'notifications': False, 'translator_type': 'regular'}, id=28785486, id_str='28785486', name='ABC News', screen_name='ABC', location='New York City / Worldwide', description='All the news and information you need to see, curated by the @ABC News team. https://t.co/PKeobr4xt0 Tips: https://t.co/2ICEX6CuXd', url='https://t.co/B4vihbwCGa', entities={'url': {'urls': [{'url': 'https://t.co/B4vihbwCGa', 'expanded_url': 'https://abcnews.go.com/', 'display_url': 'abcnews.go.com', 'indices': [0, 23]}]}, 'description': {'urls': [{'url': 'https://t.co/PKeobr4xt0', 'expanded_url': 'http://instagram.com/abcnews', 'display_url': 'instagram.com/abcnews', 'indices': [77, 100]}, {'url': 'https://t.co/2ICEX6CuXd', 'expanded_url': 'https://abcn.ws/tips', 'display_url': 'abcn.ws/tips', 'indices': [107, 130]}]}}, protected=False, followers_count=16561974, friends_count=516, listed_count=61774, created_at=datetime.datetime(2009, 4, 4, 12, 40, 32), favourites_count=23, utc_offset=None, time_zone=None, geo_enabled=True, verified=True, statuses_count=338138, lang=None, contributors_enabled=False, is_translator=False, is_translation_enabled=True, profile_background_color='6E8EB5', profile_background_image_url='http://abs.twimg.com/images/themes/theme1/bg.png', profile_background_image_url_https='https://abs.twimg.com/images/themes/theme1/bg.png', profile_background_tile=False, profile_image_url='http://pbs.twimg.com/profile_images/1082358814819536896/19QbYCgF_normal.jpg', profile_image_url_https='https://pbs.twimg.com/profile_images/1082358814819536896/19QbYCgF_normal.jpg', profile_banner_url='https://pbs.twimg.com/profile_banners/28785486/1505493568', profile_link_color='336699', profile_sidebar_border_color='FFFFFF', profile_sidebar_fill_color='DDEEF6', profile_text_color='333333', profile_use_background_image=True, has_extended_profile=False, default_profile=False, default_profile_image=False, following=False, follow_request_sent=False, notifications=False, translator_type='regular'), user=User(_api=<tweepy.api.API object at 0x0000023D9171C2B0>, _json={'id': 28785486, 'id_str': '28785486', 'name': 'ABC News', 'screen_name': 'ABC', 'location': 'New York City / Worldwide', 'description': 'All the news and information you need to see, curated by the @ABC News team. https://t.co/PKeobr4xt0 Tips: https://t.co/2ICEX6CuXd', 'url': 'https://t.co/B4vihbwCGa', 'entities': {'url': {'urls': [{'url': 'https://t.co/B4vihbwCGa', 'expanded_url': 'https://abcnews.go.com/', 'display_url': 'abcnews.go.com', 'indices': [0, 23]}]}, 'description': {'urls': [{'url': 'https://t.co/PKeobr4xt0', 'expanded_url': 'http://instagram.com/abcnews', 'display_url': 'instagram.com/abcnews', 'indices': [77, 100]}, {'url': 'https://t.co/2ICEX6CuXd', 'expanded_url': 'https://abcn.ws/tips', 'display_url': 'abcn.ws/tips', 'indices': [107, 130]}]}}, 'protected': False, 'followers_count': 16561974, 'friends_count': 516, 'listed_count': 61774, 'created_at': 'Sat Apr 04 12:40:32 +0000 2009', 'favourites_count': 23, 'utc_offset': None, 'time_zone': None, 'geo_enabled': True, 'verified': True, 'statuses_count': 338138, 'lang': None, 'contributors_enabled': False, 'is_translator': False, 'is_translation_enabled': True, 'profile_background_color': '6E8EB5', 'profile_background_image_url': 'http://abs.twimg.com/images/themes/theme1/bg.png', 'profile_background_image_url_https': 'https://abs.twimg.com/images/themes/theme1/bg.png', 'profile_background_tile': False, 'profile_image_url': 'http://pbs.twimg.com/profile_images/1082358814819536896/19QbYCgF_normal.jpg', 'profile_image_url_https': 'https://pbs.twimg.com/profile_images/1082358814819536896/19QbYCgF_normal.jpg', 'profile_banner_url': 'https://pbs.twimg.com/profile_banners/28785486/1505493568', 'profile_link_color': '336699', 'profile_sidebar_border_color': 'FFFFFF', 'profile_sidebar_fill_color': 'DDEEF6', 'profile_text_color': '333333', 'profile_use_background_image': True, 'has_extended_profile': False, 'default_profile': False, 'default_profile_image': False, 'following': False, 'follow_request_sent': False, 'notifications': False, 'translator_type': 'regular'}, id=28785486, id_str='28785486', name='ABC News', screen_name='ABC', location='New York City / Worldwide', description='All the news and information you need to see, curated by the @ABC News team. https://t.co/PKeobr4xt0 Tips: https://t.co/2ICEX6CuXd', url='https://t.co/B4vihbwCGa', entities={'url': {'urls': [{'url': 'https://t.co/B4vihbwCGa', 'expanded_url': 'https://abcnews.go.com/', 'display_url': 'abcnews.go.com', 'indices': [0, 23]}]}, 'description': {'urls': [{'url': 'https://t.co/PKeobr4xt0', 'expanded_url': 'http://instagram.com/abcnews', 'display_url': 'instagram.com/abcnews', 'indices': [77, 100]}, {'url': 'https://t.co/2ICEX6CuXd', 'expanded_url': 'https://abcn.ws/tips', 'display_url': 'abcn.ws/tips', 'indices': [107, 130]}]}}, protected=False, followers_count=16561974, friends_count=516, listed_count=61774, created_at=datetime.datetime(2009, 4, 4, 12, 40, 32), favourites_count=23, utc_offset=None, time_zone=None, geo_enabled=True, verified=True, statuses_count=338138, lang=None, contributors_enabled=False, is_translator=False, is_translation_enabled=True, profile_background_color='6E8EB5', profile_background_image_url='http://abs.twimg.com/images/themes/theme1/bg.png', profile_background_image_url_https='https://abs.twimg.com/images/themes/theme1/bg.png', profile_background_tile=False, profile_image_url='http://pbs.twimg.com/profile_images/1082358814819536896/19QbYCgF_normal.jpg', profile_image_url_https='https://pbs.twimg.com/profile_images/1082358814819536896/19QbYCgF_normal.jpg', profile_banner_url='https://pbs.twimg.com/profile_banners/28785486/1505493568', profile_link_color='336699', profile_sidebar_border_color='FFFFFF', profile_sidebar_fill_color='DDEEF6', profile_text_color='333333', profile_use_background_image=True, has_extended_profile=False, default_profile=False, default_profile_image=False, following=False, follow_request_sent=False, notifications=False, translator_type='regular'), geo=None, coordinates=None, place=None, contributors=None, is_quote_status=False, retweet_count=148, favorite_count=378, favorited=False, retweeted=False, possibly_sensitive=False, lang='en'), is_quote_status=False, retweet_count=148, favorite_count=0, favorited=False, retweeted=False, lang='en')]\n"
     ]
    }
   ],
   "source": [
    "pprint.pprint(raw)"
   ]
  },
  {
   "cell_type": "code",
   "execution_count": null,
   "metadata": {},
   "outputs": [],
   "source": [
    "# raw "
   ]
  }
 ],
 "metadata": {
  "kernelspec": {
   "display_name": "Python 3",
   "language": "python",
   "name": "python3"
  },
  "language_info": {
   "codemirror_mode": {
    "name": "ipython",
    "version": 3
   },
   "file_extension": ".py",
   "mimetype": "text/x-python",
   "name": "python",
   "nbconvert_exporter": "python",
   "pygments_lexer": "ipython3",
   "version": "3.8.3"
  }
 },
 "nbformat": 4,
 "nbformat_minor": 4
}
