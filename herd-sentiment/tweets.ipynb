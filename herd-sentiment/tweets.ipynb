{
 "cells": [
  {
   "cell_type": "markdown",
   "metadata": {},
   "source": [
    "# Initial Setup"
   ]
  },
  {
   "cell_type": "code",
   "execution_count": 4,
   "metadata": {},
   "outputs": [
    {
     "ename": "ModuleNotFoundError",
     "evalue": "No module named 'tweepy'",
     "output_type": "error",
     "traceback": [
      "\u001b[1;31m---------------------------------------------------------------------------\u001b[0m",
      "\u001b[1;31mModuleNotFoundError\u001b[0m                       Traceback (most recent call last)",
      "\u001b[1;32m<ipython-input-4-c4feb8a51349>\u001b[0m in \u001b[0;36m<module>\u001b[1;34m\u001b[0m\n\u001b[0;32m      1\u001b[0m \u001b[1;31m# Import tweepy\u001b[0m\u001b[1;33m\u001b[0m\u001b[1;33m\u001b[0m\u001b[1;33m\u001b[0m\u001b[0m\n\u001b[1;32m----> 2\u001b[1;33m \u001b[1;32mimport\u001b[0m \u001b[0mtweepy\u001b[0m\u001b[1;33m\u001b[0m\u001b[1;33m\u001b[0m\u001b[0m\n\u001b[0m\u001b[0;32m      3\u001b[0m \u001b[1;32mfrom\u001b[0m \u001b[0mconfig\u001b[0m \u001b[1;32mimport\u001b[0m \u001b[1;33m*\u001b[0m\u001b[1;33m\u001b[0m\u001b[1;33m\u001b[0m\u001b[0m\n",
      "\u001b[1;31mModuleNotFoundError\u001b[0m: No module named 'tweepy'"
     ]
    }
   ],
   "source": [
    "# Import tweepy \n",
    "import tweepy\n",
    "from config import *"
   ]
  },
  {
   "cell_type": "code",
   "execution_count": 60,
   "metadata": {},
   "outputs": [],
   "source": [
    "# Import other dependencies\n",
    "import pandas as pd\n",
    "from datetime import datetime as dt \n",
    "import pprint"
   ]
  },
  {
   "cell_type": "code",
   "execution_count": 6,
   "metadata": {},
   "outputs": [],
   "source": [
    "# More\n",
    "import matplotlib.pyplot as plt \n",
    "import numpy as np \n",
    "from textblob import TextBlob\n",
    "from wordcloud import WordCloud \n",
    "import re \n"
   ]
  },
  {
   "cell_type": "code",
   "execution_count": 3,
   "metadata": {},
   "outputs": [],
   "source": [
    "# Tweepy Setup\n",
    "auth = tweepy.OAuthHandler(api_key, api_secret_key)\n",
    "auth.set_access_token(access_token, access_token_secret)\n",
    "api = tweepy.API(auth)"
   ]
  },
  {
   "cell_type": "code",
   "execution_count": 4,
   "metadata": {},
   "outputs": [],
   "source": [
    "# Define some search terms\n",
    "# Limited number of API calls so want to limit unusable data \n",
    "\n",
    "search_terms = ['covid','vaccine','covid vaccine','covid-19 vaccine','pfizer','moderna']\n",
    "end_date = dt.date(2021,3,1)\n",
    "limit = 1"
   ]
  },
  {
   "cell_type": "code",
   "execution_count": 7,
   "metadata": {},
   "outputs": [
    {
     "data": {
      "text/plain": [
       "[{'created': datetime.datetime(2021, 2, 28, 23, 55, 6),\n",
       "  'id_str': '1366175122780995584',\n",
       "  'text': 'RT @ABC: As Johnson &amp; and Johnson is set to become the third COVID-19 vaccine granted authorization for use in the U.S., the manufacturer i…',\n",
       "  'user_id': 294680396,\n",
       "  'screen_name': 'AlasAndres',\n",
       "  'location': 'El Salvador',\n",
       "  'followers_count': 322,\n",
       "  'user_favourites_count': 1255,\n",
       "  'time_zone': None,\n",
       "  'geo_enabled': True,\n",
       "  'verified': False,\n",
       "  'status_count': 3536,\n",
       "  'geo': None,\n",
       "  'coords': None,\n",
       "  'place': None,\n",
       "  'retweet_count': 148,\n",
       "  'tweet_favourite_count': 0,\n",
       "  'retweeted': False,\n",
       "  'lang': 'en'}]"
      ]
     },
     "execution_count": 7,
     "metadata": {},
     "output_type": "execute_result"
    }
   ],
   "source": [
    "# Create empty containers for scraped data \n",
    "data = []\n",
    "raw =[]\n",
    "\n",
    "# Create api call \n",
    "tweets = tweepy.Cursor(api.search, until=end_date, location='canada', place='canada', lang ='en', retweeted=False, q=search_terms, tweet_mode='extended').items(limit)\n",
    "# parse response for useful data \n",
    "for t in tweets: \n",
    "    tweet ={\n",
    "        'created' :t.created_at,\n",
    "        'id_str' : t.id_str,\n",
    "        'text' : t.full_text,\n",
    "        'user_id' :t.user.id,\n",
    "        'screen_name': t.user.screen_name,\n",
    "        'location': t.user.location,\n",
    "        'followers_count': t.user.followers_count,\n",
    "        'user_favourites_count': t.user.favourites_count,\n",
    "        'time_zone' :t.user.time_zone,\n",
    "        'geo_enabled' :t.user.geo_enabled,\n",
    "        'verified' :t.user.verified,\n",
    "        'status_count': t.user.statuses_count,\n",
    "        'geo':t.geo,\n",
    "        'coords':t.coordinates,\n",
    "        'place':t.place,\n",
    "        'retweet_count': t.retweet_count,\n",
    "        'tweet_favourite_count' : t.favorite_count,\n",
    "        'retweeted' : t.retweeted,\n",
    "        'lang':t.lang\n",
    "    }\n",
    "    # add sorted data to one list \n",
    "    data.append(tweet)\n",
    "    \n",
    "    # keep raw data in case I realize later that I've removed something important \n",
    "    raw.append(t)\n",
    "\n",
    "data"
   ]
  },
  {
   "cell_type": "code",
   "execution_count": 8,
   "metadata": {},
   "outputs": [
    {
     "data": {
      "text/html": [
       "<div>\n",
       "<style scoped>\n",
       "    .dataframe tbody tr th:only-of-type {\n",
       "        vertical-align: middle;\n",
       "    }\n",
       "\n",
       "    .dataframe tbody tr th {\n",
       "        vertical-align: top;\n",
       "    }\n",
       "\n",
       "    .dataframe thead th {\n",
       "        text-align: right;\n",
       "    }\n",
       "</style>\n",
       "<table border=\"1\" class=\"dataframe\">\n",
       "  <thead>\n",
       "    <tr style=\"text-align: right;\">\n",
       "      <th></th>\n",
       "      <th>created</th>\n",
       "      <th>id_str</th>\n",
       "      <th>text</th>\n",
       "      <th>user_id</th>\n",
       "      <th>screen_name</th>\n",
       "      <th>location</th>\n",
       "      <th>followers_count</th>\n",
       "      <th>user_favourites_count</th>\n",
       "      <th>time_zone</th>\n",
       "      <th>geo_enabled</th>\n",
       "      <th>verified</th>\n",
       "      <th>status_count</th>\n",
       "      <th>geo</th>\n",
       "      <th>coords</th>\n",
       "      <th>place</th>\n",
       "      <th>retweet_count</th>\n",
       "      <th>tweet_favourite_count</th>\n",
       "      <th>retweeted</th>\n",
       "      <th>lang</th>\n",
       "    </tr>\n",
       "  </thead>\n",
       "  <tbody>\n",
       "    <tr>\n",
       "      <th>0</th>\n",
       "      <td>2021-02-28 23:55:06</td>\n",
       "      <td>1366175122780995584</td>\n",
       "      <td>RT @ABC: As Johnson &amp;amp; and Johnson is set t...</td>\n",
       "      <td>294680396</td>\n",
       "      <td>AlasAndres</td>\n",
       "      <td>El Salvador</td>\n",
       "      <td>322</td>\n",
       "      <td>1255</td>\n",
       "      <td>None</td>\n",
       "      <td>True</td>\n",
       "      <td>False</td>\n",
       "      <td>3536</td>\n",
       "      <td>None</td>\n",
       "      <td>None</td>\n",
       "      <td>None</td>\n",
       "      <td>148</td>\n",
       "      <td>0</td>\n",
       "      <td>False</td>\n",
       "      <td>en</td>\n",
       "    </tr>\n",
       "  </tbody>\n",
       "</table>\n",
       "</div>"
      ],
      "text/plain": [
       "              created               id_str  \\\n",
       "0 2021-02-28 23:55:06  1366175122780995584   \n",
       "\n",
       "                                                text    user_id screen_name  \\\n",
       "0  RT @ABC: As Johnson &amp; and Johnson is set t...  294680396  AlasAndres   \n",
       "\n",
       "      location  followers_count  user_favourites_count time_zone  geo_enabled  \\\n",
       "0  El Salvador              322                   1255      None         True   \n",
       "\n",
       "   verified  status_count   geo coords place  retweet_count  \\\n",
       "0     False          3536  None   None  None            148   \n",
       "\n",
       "   tweet_favourite_count  retweeted lang  \n",
       "0                      0      False   en  "
      ]
     },
     "execution_count": 8,
     "metadata": {},
     "output_type": "execute_result"
    }
   ],
   "source": [
    "tweets_df = pd.DataFrame(data)\n",
    "tweets_df.head()"
   ]
  },
  {
   "cell_type": "code",
   "execution_count": 10,
   "metadata": {},
   "outputs": [],
   "source": [
    "tweets_df.to_csv('test.csv', index=False, encoding='UTF-8')"
   ]
  },
  {
   "cell_type": "code",
   "execution_count": 11,
   "metadata": {},
   "outputs": [
    {
     "name": "stdout",
     "output_type": "stream",
     "text": [
      "[Status(_api=<tweepy.api.API object at 0x0000023D9171C2B0>, _json={'created_at': 'Sun Feb 28 23:55:06 +0000 2021', 'id': 1366175122780995584, 'id_str': '1366175122780995584', 'full_text': 'RT @ABC: As Johnson &amp; and Johnson is set to become the third COVID-19 vaccine granted authorization for use in the U.S., the manufacturer i…', 'truncated': False, 'display_text_range': [0, 144], 'entities': {'hashtags': [], 'symbols': [], 'user_mentions': [{'screen_name': 'ABC', 'name': 'ABC News', 'id': 28785486, 'id_str': '28785486', 'indices': [3, 7]}], 'urls': []}, 'metadata': {'iso_language_code': 'en', 'result_type': 'recent'}, 'source': '<a href=\"http://twitter.com/download/iphone\" rel=\"nofollow\">Twitter for iPhone</a>', 'in_reply_to_status_id': None, 'in_reply_to_status_id_str': None, 'in_reply_to_user_id': None, 'in_reply_to_user_id_str': None, 'in_reply_to_screen_name': None, 'user': {'id': 294680396, 'id_str': '294680396', 'name': 'Andrés Alas Domínguez', 'screen_name': 'AlasAndres', 'location': 'El Salvador', 'description': 'Católico | Ingeniero Industrial @UCA_ES | Emprendedor | Amante del fútbol ⚽️ “Cuando llega la oscuridad, se pueden ver las estrellas.”', 'url': None, 'entities': {'description': {'urls': []}}, 'protected': False, 'followers_count': 322, 'friends_count': 1026, 'listed_count': 1, 'created_at': 'Sat May 07 15:37:42 +0000 2011', 'favourites_count': 1255, 'utc_offset': None, 'time_zone': None, 'geo_enabled': True, 'verified': False, 'statuses_count': 3536, 'lang': None, 'contributors_enabled': False, 'is_translator': False, 'is_translation_enabled': False, 'profile_background_color': '022330', 'profile_background_image_url': 'http://abs.twimg.com/images/themes/theme15/bg.png', 'profile_background_image_url_https': 'https://abs.twimg.com/images/themes/theme15/bg.png', 'profile_background_tile': False, 'profile_image_url': 'http://pbs.twimg.com/profile_images/1276930373570695168/yOZQolh8_normal.jpg', 'profile_image_url_https': 'https://pbs.twimg.com/profile_images/1276930373570695168/yOZQolh8_normal.jpg', 'profile_banner_url': 'https://pbs.twimg.com/profile_banners/294680396/1612660121', 'profile_link_color': '0084B4', 'profile_sidebar_border_color': 'A8C7F7', 'profile_sidebar_fill_color': 'C0DFEC', 'profile_text_color': '333333', 'profile_use_background_image': True, 'has_extended_profile': False, 'default_profile': False, 'default_profile_image': False, 'following': False, 'follow_request_sent': False, 'notifications': False, 'translator_type': 'none'}, 'geo': None, 'coordinates': None, 'place': None, 'contributors': None, 'retweeted_status': {'created_at': 'Sat Feb 27 14:15:35 +0000 2021', 'id': 1365666893881892866, 'id_str': '1365666893881892866', 'full_text': 'As Johnson &amp; and Johnson is set to become the third COVID-19 vaccine granted authorization for use in the U.S., the manufacturer is aiming for 100m doses distributed by the end of June, as Pfizer and Moderna ramp up their distribution across the country. https://t.co/9QFNpKD3uv https://t.co/b4Za7N89Zv', 'truncated': False, 'display_text_range': [0, 282], 'entities': {'hashtags': [], 'symbols': [], 'user_mentions': [], 'urls': [{'url': 'https://t.co/9QFNpKD3uv', 'expanded_url': 'https://abcn.ws/3aVClwq', 'display_url': 'abcn.ws/3aVClwq', 'indices': [259, 282]}], 'media': [{'id': 1365666892099297284, 'id_str': '1365666892099297284', 'indices': [283, 306], 'media_url': 'http://pbs.twimg.com/media/EvPSzYEXIAQ-zH7.jpg', 'media_url_https': 'https://pbs.twimg.com/media/EvPSzYEXIAQ-zH7.jpg', 'url': 'https://t.co/b4Za7N89Zv', 'display_url': 'pic.twitter.com/b4Za7N89Zv', 'expanded_url': 'https://twitter.com/ABC/status/1365666893881892866/photo/1', 'type': 'photo', 'sizes': {'thumb': {'w': 150, 'h': 150, 'resize': 'crop'}, 'large': {'w': 1200, 'h': 1200, 'resize': 'fit'}, 'medium': {'w': 1200, 'h': 1200, 'resize': 'fit'}, 'small': {'w': 680, 'h': 680, 'resize': 'fit'}}}]}, 'extended_entities': {'media': [{'id': 1365666892099297284, 'id_str': '1365666892099297284', 'indices': [283, 306], 'media_url': 'http://pbs.twimg.com/media/EvPSzYEXIAQ-zH7.jpg', 'media_url_https': 'https://pbs.twimg.com/media/EvPSzYEXIAQ-zH7.jpg', 'url': 'https://t.co/b4Za7N89Zv', 'display_url': 'pic.twitter.com/b4Za7N89Zv', 'expanded_url': 'https://twitter.com/ABC/status/1365666893881892866/photo/1', 'type': 'photo', 'sizes': {'thumb': {'w': 150, 'h': 150, 'resize': 'crop'}, 'large': {'w': 1200, 'h': 1200, 'resize': 'fit'}, 'medium': {'w': 1200, 'h': 1200, 'resize': 'fit'}, 'small': {'w': 680, 'h': 680, 'resize': 'fit'}}}]}, 'metadata': {'iso_language_code': 'en', 'result_type': 'recent'}, 'source': '<a href=\"http://www.socialflow.com\" rel=\"nofollow\">SocialFlow</a>', 'in_reply_to_status_id': None, 'in_reply_to_status_id_str': None, 'in_reply_to_user_id': None, 'in_reply_to_user_id_str': None, 'in_reply_to_screen_name': None, 'user': {'id': 28785486, 'id_str': '28785486', 'name': 'ABC News', 'screen_name': 'ABC', 'location': 'New York City / Worldwide', 'description': 'All the news and information you need to see, curated by the @ABC News team. https://t.co/PKeobr4xt0 Tips: https://t.co/2ICEX6CuXd', 'url': 'https://t.co/B4vihbwCGa', 'entities': {'url': {'urls': [{'url': 'https://t.co/B4vihbwCGa', 'expanded_url': 'https://abcnews.go.com/', 'display_url': 'abcnews.go.com', 'indices': [0, 23]}]}, 'description': {'urls': [{'url': 'https://t.co/PKeobr4xt0', 'expanded_url': 'http://instagram.com/abcnews', 'display_url': 'instagram.com/abcnews', 'indices': [77, 100]}, {'url': 'https://t.co/2ICEX6CuXd', 'expanded_url': 'https://abcn.ws/tips', 'display_url': 'abcn.ws/tips', 'indices': [107, 130]}]}}, 'protected': False, 'followers_count': 16561974, 'friends_count': 516, 'listed_count': 61774, 'created_at': 'Sat Apr 04 12:40:32 +0000 2009', 'favourites_count': 23, 'utc_offset': None, 'time_zone': None, 'geo_enabled': True, 'verified': True, 'statuses_count': 338138, 'lang': None, 'contributors_enabled': False, 'is_translator': False, 'is_translation_enabled': True, 'profile_background_color': '6E8EB5', 'profile_background_image_url': 'http://abs.twimg.com/images/themes/theme1/bg.png', 'profile_background_image_url_https': 'https://abs.twimg.com/images/themes/theme1/bg.png', 'profile_background_tile': False, 'profile_image_url': 'http://pbs.twimg.com/profile_images/1082358814819536896/19QbYCgF_normal.jpg', 'profile_image_url_https': 'https://pbs.twimg.com/profile_images/1082358814819536896/19QbYCgF_normal.jpg', 'profile_banner_url': 'https://pbs.twimg.com/profile_banners/28785486/1505493568', 'profile_link_color': '336699', 'profile_sidebar_border_color': 'FFFFFF', 'profile_sidebar_fill_color': 'DDEEF6', 'profile_text_color': '333333', 'profile_use_background_image': True, 'has_extended_profile': False, 'default_profile': False, 'default_profile_image': False, 'following': False, 'follow_request_sent': False, 'notifications': False, 'translator_type': 'regular'}, 'geo': None, 'coordinates': None, 'place': None, 'contributors': None, 'is_quote_status': False, 'retweet_count': 148, 'favorite_count': 378, 'favorited': False, 'retweeted': False, 'possibly_sensitive': False, 'lang': 'en'}, 'is_quote_status': False, 'retweet_count': 148, 'favorite_count': 0, 'favorited': False, 'retweeted': False, 'lang': 'en'}, created_at=datetime.datetime(2021, 2, 28, 23, 55, 6), id=1366175122780995584, id_str='1366175122780995584', full_text='RT @ABC: As Johnson &amp; and Johnson is set to become the third COVID-19 vaccine granted authorization for use in the U.S., the manufacturer i…', truncated=False, display_text_range=[0, 144], entities={'hashtags': [], 'symbols': [], 'user_mentions': [{'screen_name': 'ABC', 'name': 'ABC News', 'id': 28785486, 'id_str': '28785486', 'indices': [3, 7]}], 'urls': []}, metadata={'iso_language_code': 'en', 'result_type': 'recent'}, source='Twitter for iPhone', source_url='http://twitter.com/download/iphone', in_reply_to_status_id=None, in_reply_to_status_id_str=None, in_reply_to_user_id=None, in_reply_to_user_id_str=None, in_reply_to_screen_name=None, author=User(_api=<tweepy.api.API object at 0x0000023D9171C2B0>, _json={'id': 294680396, 'id_str': '294680396', 'name': 'Andrés Alas Domínguez', 'screen_name': 'AlasAndres', 'location': 'El Salvador', 'description': 'Católico | Ingeniero Industrial @UCA_ES | Emprendedor | Amante del fútbol ⚽️ “Cuando llega la oscuridad, se pueden ver las estrellas.”', 'url': None, 'entities': {'description': {'urls': []}}, 'protected': False, 'followers_count': 322, 'friends_count': 1026, 'listed_count': 1, 'created_at': 'Sat May 07 15:37:42 +0000 2011', 'favourites_count': 1255, 'utc_offset': None, 'time_zone': None, 'geo_enabled': True, 'verified': False, 'statuses_count': 3536, 'lang': None, 'contributors_enabled': False, 'is_translator': False, 'is_translation_enabled': False, 'profile_background_color': '022330', 'profile_background_image_url': 'http://abs.twimg.com/images/themes/theme15/bg.png', 'profile_background_image_url_https': 'https://abs.twimg.com/images/themes/theme15/bg.png', 'profile_background_tile': False, 'profile_image_url': 'http://pbs.twimg.com/profile_images/1276930373570695168/yOZQolh8_normal.jpg', 'profile_image_url_https': 'https://pbs.twimg.com/profile_images/1276930373570695168/yOZQolh8_normal.jpg', 'profile_banner_url': 'https://pbs.twimg.com/profile_banners/294680396/1612660121', 'profile_link_color': '0084B4', 'profile_sidebar_border_color': 'A8C7F7', 'profile_sidebar_fill_color': 'C0DFEC', 'profile_text_color': '333333', 'profile_use_background_image': True, 'has_extended_profile': False, 'default_profile': False, 'default_profile_image': False, 'following': False, 'follow_request_sent': False, 'notifications': False, 'translator_type': 'none'}, id=294680396, id_str='294680396', name='Andrés Alas Domínguez', screen_name='AlasAndres', location='El Salvador', description='Católico | Ingeniero Industrial @UCA_ES | Emprendedor | Amante del fútbol ⚽️ “Cuando llega la oscuridad, se pueden ver las estrellas.”', url=None, entities={'description': {'urls': []}}, protected=False, followers_count=322, friends_count=1026, listed_count=1, created_at=datetime.datetime(2011, 5, 7, 15, 37, 42), favourites_count=1255, utc_offset=None, time_zone=None, geo_enabled=True, verified=False, statuses_count=3536, lang=None, contributors_enabled=False, is_translator=False, is_translation_enabled=False, profile_background_color='022330', profile_background_image_url='http://abs.twimg.com/images/themes/theme15/bg.png', profile_background_image_url_https='https://abs.twimg.com/images/themes/theme15/bg.png', profile_background_tile=False, profile_image_url='http://pbs.twimg.com/profile_images/1276930373570695168/yOZQolh8_normal.jpg', profile_image_url_https='https://pbs.twimg.com/profile_images/1276930373570695168/yOZQolh8_normal.jpg', profile_banner_url='https://pbs.twimg.com/profile_banners/294680396/1612660121', profile_link_color='0084B4', profile_sidebar_border_color='A8C7F7', profile_sidebar_fill_color='C0DFEC', profile_text_color='333333', profile_use_background_image=True, has_extended_profile=False, default_profile=False, default_profile_image=False, following=False, follow_request_sent=False, notifications=False, translator_type='none'), user=User(_api=<tweepy.api.API object at 0x0000023D9171C2B0>, _json={'id': 294680396, 'id_str': '294680396', 'name': 'Andrés Alas Domínguez', 'screen_name': 'AlasAndres', 'location': 'El Salvador', 'description': 'Católico | Ingeniero Industrial @UCA_ES | Emprendedor | Amante del fútbol ⚽️ “Cuando llega la oscuridad, se pueden ver las estrellas.”', 'url': None, 'entities': {'description': {'urls': []}}, 'protected': False, 'followers_count': 322, 'friends_count': 1026, 'listed_count': 1, 'created_at': 'Sat May 07 15:37:42 +0000 2011', 'favourites_count': 1255, 'utc_offset': None, 'time_zone': None, 'geo_enabled': True, 'verified': False, 'statuses_count': 3536, 'lang': None, 'contributors_enabled': False, 'is_translator': False, 'is_translation_enabled': False, 'profile_background_color': '022330', 'profile_background_image_url': 'http://abs.twimg.com/images/themes/theme15/bg.png', 'profile_background_image_url_https': 'https://abs.twimg.com/images/themes/theme15/bg.png', 'profile_background_tile': False, 'profile_image_url': 'http://pbs.twimg.com/profile_images/1276930373570695168/yOZQolh8_normal.jpg', 'profile_image_url_https': 'https://pbs.twimg.com/profile_images/1276930373570695168/yOZQolh8_normal.jpg', 'profile_banner_url': 'https://pbs.twimg.com/profile_banners/294680396/1612660121', 'profile_link_color': '0084B4', 'profile_sidebar_border_color': 'A8C7F7', 'profile_sidebar_fill_color': 'C0DFEC', 'profile_text_color': '333333', 'profile_use_background_image': True, 'has_extended_profile': False, 'default_profile': False, 'default_profile_image': False, 'following': False, 'follow_request_sent': False, 'notifications': False, 'translator_type': 'none'}, id=294680396, id_str='294680396', name='Andrés Alas Domínguez', screen_name='AlasAndres', location='El Salvador', description='Católico | Ingeniero Industrial @UCA_ES | Emprendedor | Amante del fútbol ⚽️ “Cuando llega la oscuridad, se pueden ver las estrellas.”', url=None, entities={'description': {'urls': []}}, protected=False, followers_count=322, friends_count=1026, listed_count=1, created_at=datetime.datetime(2011, 5, 7, 15, 37, 42), favourites_count=1255, utc_offset=None, time_zone=None, geo_enabled=True, verified=False, statuses_count=3536, lang=None, contributors_enabled=False, is_translator=False, is_translation_enabled=False, profile_background_color='022330', profile_background_image_url='http://abs.twimg.com/images/themes/theme15/bg.png', profile_background_image_url_https='https://abs.twimg.com/images/themes/theme15/bg.png', profile_background_tile=False, profile_image_url='http://pbs.twimg.com/profile_images/1276930373570695168/yOZQolh8_normal.jpg', profile_image_url_https='https://pbs.twimg.com/profile_images/1276930373570695168/yOZQolh8_normal.jpg', profile_banner_url='https://pbs.twimg.com/profile_banners/294680396/1612660121', profile_link_color='0084B4', profile_sidebar_border_color='A8C7F7', profile_sidebar_fill_color='C0DFEC', profile_text_color='333333', profile_use_background_image=True, has_extended_profile=False, default_profile=False, default_profile_image=False, following=False, follow_request_sent=False, notifications=False, translator_type='none'), geo=None, coordinates=None, place=None, contributors=None, retweeted_status=Status(_api=<tweepy.api.API object at 0x0000023D9171C2B0>, _json={'created_at': 'Sat Feb 27 14:15:35 +0000 2021', 'id': 1365666893881892866, 'id_str': '1365666893881892866', 'full_text': 'As Johnson &amp; and Johnson is set to become the third COVID-19 vaccine granted authorization for use in the U.S., the manufacturer is aiming for 100m doses distributed by the end of June, as Pfizer and Moderna ramp up their distribution across the country. https://t.co/9QFNpKD3uv https://t.co/b4Za7N89Zv', 'truncated': False, 'display_text_range': [0, 282], 'entities': {'hashtags': [], 'symbols': [], 'user_mentions': [], 'urls': [{'url': 'https://t.co/9QFNpKD3uv', 'expanded_url': 'https://abcn.ws/3aVClwq', 'display_url': 'abcn.ws/3aVClwq', 'indices': [259, 282]}], 'media': [{'id': 1365666892099297284, 'id_str': '1365666892099297284', 'indices': [283, 306], 'media_url': 'http://pbs.twimg.com/media/EvPSzYEXIAQ-zH7.jpg', 'media_url_https': 'https://pbs.twimg.com/media/EvPSzYEXIAQ-zH7.jpg', 'url': 'https://t.co/b4Za7N89Zv', 'display_url': 'pic.twitter.com/b4Za7N89Zv', 'expanded_url': 'https://twitter.com/ABC/status/1365666893881892866/photo/1', 'type': 'photo', 'sizes': {'thumb': {'w': 150, 'h': 150, 'resize': 'crop'}, 'large': {'w': 1200, 'h': 1200, 'resize': 'fit'}, 'medium': {'w': 1200, 'h': 1200, 'resize': 'fit'}, 'small': {'w': 680, 'h': 680, 'resize': 'fit'}}}]}, 'extended_entities': {'media': [{'id': 1365666892099297284, 'id_str': '1365666892099297284', 'indices': [283, 306], 'media_url': 'http://pbs.twimg.com/media/EvPSzYEXIAQ-zH7.jpg', 'media_url_https': 'https://pbs.twimg.com/media/EvPSzYEXIAQ-zH7.jpg', 'url': 'https://t.co/b4Za7N89Zv', 'display_url': 'pic.twitter.com/b4Za7N89Zv', 'expanded_url': 'https://twitter.com/ABC/status/1365666893881892866/photo/1', 'type': 'photo', 'sizes': {'thumb': {'w': 150, 'h': 150, 'resize': 'crop'}, 'large': {'w': 1200, 'h': 1200, 'resize': 'fit'}, 'medium': {'w': 1200, 'h': 1200, 'resize': 'fit'}, 'small': {'w': 680, 'h': 680, 'resize': 'fit'}}}]}, 'metadata': {'iso_language_code': 'en', 'result_type': 'recent'}, 'source': '<a href=\"http://www.socialflow.com\" rel=\"nofollow\">SocialFlow</a>', 'in_reply_to_status_id': None, 'in_reply_to_status_id_str': None, 'in_reply_to_user_id': None, 'in_reply_to_user_id_str': None, 'in_reply_to_screen_name': None, 'user': {'id': 28785486, 'id_str': '28785486', 'name': 'ABC News', 'screen_name': 'ABC', 'location': 'New York City / Worldwide', 'description': 'All the news and information you need to see, curated by the @ABC News team. https://t.co/PKeobr4xt0 Tips: https://t.co/2ICEX6CuXd', 'url': 'https://t.co/B4vihbwCGa', 'entities': {'url': {'urls': [{'url': 'https://t.co/B4vihbwCGa', 'expanded_url': 'https://abcnews.go.com/', 'display_url': 'abcnews.go.com', 'indices': [0, 23]}]}, 'description': {'urls': [{'url': 'https://t.co/PKeobr4xt0', 'expanded_url': 'http://instagram.com/abcnews', 'display_url': 'instagram.com/abcnews', 'indices': [77, 100]}, {'url': 'https://t.co/2ICEX6CuXd', 'expanded_url': 'https://abcn.ws/tips', 'display_url': 'abcn.ws/tips', 'indices': [107, 130]}]}}, 'protected': False, 'followers_count': 16561974, 'friends_count': 516, 'listed_count': 61774, 'created_at': 'Sat Apr 04 12:40:32 +0000 2009', 'favourites_count': 23, 'utc_offset': None, 'time_zone': None, 'geo_enabled': True, 'verified': True, 'statuses_count': 338138, 'lang': None, 'contributors_enabled': False, 'is_translator': False, 'is_translation_enabled': True, 'profile_background_color': '6E8EB5', 'profile_background_image_url': 'http://abs.twimg.com/images/themes/theme1/bg.png', 'profile_background_image_url_https': 'https://abs.twimg.com/images/themes/theme1/bg.png', 'profile_background_tile': False, 'profile_image_url': 'http://pbs.twimg.com/profile_images/1082358814819536896/19QbYCgF_normal.jpg', 'profile_image_url_https': 'https://pbs.twimg.com/profile_images/1082358814819536896/19QbYCgF_normal.jpg', 'profile_banner_url': 'https://pbs.twimg.com/profile_banners/28785486/1505493568', 'profile_link_color': '336699', 'profile_sidebar_border_color': 'FFFFFF', 'profile_sidebar_fill_color': 'DDEEF6', 'profile_text_color': '333333', 'profile_use_background_image': True, 'has_extended_profile': False, 'default_profile': False, 'default_profile_image': False, 'following': False, 'follow_request_sent': False, 'notifications': False, 'translator_type': 'regular'}, 'geo': None, 'coordinates': None, 'place': None, 'contributors': None, 'is_quote_status': False, 'retweet_count': 148, 'favorite_count': 378, 'favorited': False, 'retweeted': False, 'possibly_sensitive': False, 'lang': 'en'}, created_at=datetime.datetime(2021, 2, 27, 14, 15, 35), id=1365666893881892866, id_str='1365666893881892866', full_text='As Johnson &amp; and Johnson is set to become the third COVID-19 vaccine granted authorization for use in the U.S., the manufacturer is aiming for 100m doses distributed by the end of June, as Pfizer and Moderna ramp up their distribution across the country. https://t.co/9QFNpKD3uv https://t.co/b4Za7N89Zv', truncated=False, display_text_range=[0, 282], entities={'hashtags': [], 'symbols': [], 'user_mentions': [], 'urls': [{'url': 'https://t.co/9QFNpKD3uv', 'expanded_url': 'https://abcn.ws/3aVClwq', 'display_url': 'abcn.ws/3aVClwq', 'indices': [259, 282]}], 'media': [{'id': 1365666892099297284, 'id_str': '1365666892099297284', 'indices': [283, 306], 'media_url': 'http://pbs.twimg.com/media/EvPSzYEXIAQ-zH7.jpg', 'media_url_https': 'https://pbs.twimg.com/media/EvPSzYEXIAQ-zH7.jpg', 'url': 'https://t.co/b4Za7N89Zv', 'display_url': 'pic.twitter.com/b4Za7N89Zv', 'expanded_url': 'https://twitter.com/ABC/status/1365666893881892866/photo/1', 'type': 'photo', 'sizes': {'thumb': {'w': 150, 'h': 150, 'resize': 'crop'}, 'large': {'w': 1200, 'h': 1200, 'resize': 'fit'}, 'medium': {'w': 1200, 'h': 1200, 'resize': 'fit'}, 'small': {'w': 680, 'h': 680, 'resize': 'fit'}}}]}, extended_entities={'media': [{'id': 1365666892099297284, 'id_str': '1365666892099297284', 'indices': [283, 306], 'media_url': 'http://pbs.twimg.com/media/EvPSzYEXIAQ-zH7.jpg', 'media_url_https': 'https://pbs.twimg.com/media/EvPSzYEXIAQ-zH7.jpg', 'url': 'https://t.co/b4Za7N89Zv', 'display_url': 'pic.twitter.com/b4Za7N89Zv', 'expanded_url': 'https://twitter.com/ABC/status/1365666893881892866/photo/1', 'type': 'photo', 'sizes': {'thumb': {'w': 150, 'h': 150, 'resize': 'crop'}, 'large': {'w': 1200, 'h': 1200, 'resize': 'fit'}, 'medium': {'w': 1200, 'h': 1200, 'resize': 'fit'}, 'small': {'w': 680, 'h': 680, 'resize': 'fit'}}}]}, metadata={'iso_language_code': 'en', 'result_type': 'recent'}, source='SocialFlow', source_url='http://www.socialflow.com', in_reply_to_status_id=None, in_reply_to_status_id_str=None, in_reply_to_user_id=None, in_reply_to_user_id_str=None, in_reply_to_screen_name=None, author=User(_api=<tweepy.api.API object at 0x0000023D9171C2B0>, _json={'id': 28785486, 'id_str': '28785486', 'name': 'ABC News', 'screen_name': 'ABC', 'location': 'New York City / Worldwide', 'description': 'All the news and information you need to see, curated by the @ABC News team. https://t.co/PKeobr4xt0 Tips: https://t.co/2ICEX6CuXd', 'url': 'https://t.co/B4vihbwCGa', 'entities': {'url': {'urls': [{'url': 'https://t.co/B4vihbwCGa', 'expanded_url': 'https://abcnews.go.com/', 'display_url': 'abcnews.go.com', 'indices': [0, 23]}]}, 'description': {'urls': [{'url': 'https://t.co/PKeobr4xt0', 'expanded_url': 'http://instagram.com/abcnews', 'display_url': 'instagram.com/abcnews', 'indices': [77, 100]}, {'url': 'https://t.co/2ICEX6CuXd', 'expanded_url': 'https://abcn.ws/tips', 'display_url': 'abcn.ws/tips', 'indices': [107, 130]}]}}, 'protected': False, 'followers_count': 16561974, 'friends_count': 516, 'listed_count': 61774, 'created_at': 'Sat Apr 04 12:40:32 +0000 2009', 'favourites_count': 23, 'utc_offset': None, 'time_zone': None, 'geo_enabled': True, 'verified': True, 'statuses_count': 338138, 'lang': None, 'contributors_enabled': False, 'is_translator': False, 'is_translation_enabled': True, 'profile_background_color': '6E8EB5', 'profile_background_image_url': 'http://abs.twimg.com/images/themes/theme1/bg.png', 'profile_background_image_url_https': 'https://abs.twimg.com/images/themes/theme1/bg.png', 'profile_background_tile': False, 'profile_image_url': 'http://pbs.twimg.com/profile_images/1082358814819536896/19QbYCgF_normal.jpg', 'profile_image_url_https': 'https://pbs.twimg.com/profile_images/1082358814819536896/19QbYCgF_normal.jpg', 'profile_banner_url': 'https://pbs.twimg.com/profile_banners/28785486/1505493568', 'profile_link_color': '336699', 'profile_sidebar_border_color': 'FFFFFF', 'profile_sidebar_fill_color': 'DDEEF6', 'profile_text_color': '333333', 'profile_use_background_image': True, 'has_extended_profile': False, 'default_profile': False, 'default_profile_image': False, 'following': False, 'follow_request_sent': False, 'notifications': False, 'translator_type': 'regular'}, id=28785486, id_str='28785486', name='ABC News', screen_name='ABC', location='New York City / Worldwide', description='All the news and information you need to see, curated by the @ABC News team. https://t.co/PKeobr4xt0 Tips: https://t.co/2ICEX6CuXd', url='https://t.co/B4vihbwCGa', entities={'url': {'urls': [{'url': 'https://t.co/B4vihbwCGa', 'expanded_url': 'https://abcnews.go.com/', 'display_url': 'abcnews.go.com', 'indices': [0, 23]}]}, 'description': {'urls': [{'url': 'https://t.co/PKeobr4xt0', 'expanded_url': 'http://instagram.com/abcnews', 'display_url': 'instagram.com/abcnews', 'indices': [77, 100]}, {'url': 'https://t.co/2ICEX6CuXd', 'expanded_url': 'https://abcn.ws/tips', 'display_url': 'abcn.ws/tips', 'indices': [107, 130]}]}}, protected=False, followers_count=16561974, friends_count=516, listed_count=61774, created_at=datetime.datetime(2009, 4, 4, 12, 40, 32), favourites_count=23, utc_offset=None, time_zone=None, geo_enabled=True, verified=True, statuses_count=338138, lang=None, contributors_enabled=False, is_translator=False, is_translation_enabled=True, profile_background_color='6E8EB5', profile_background_image_url='http://abs.twimg.com/images/themes/theme1/bg.png', profile_background_image_url_https='https://abs.twimg.com/images/themes/theme1/bg.png', profile_background_tile=False, profile_image_url='http://pbs.twimg.com/profile_images/1082358814819536896/19QbYCgF_normal.jpg', profile_image_url_https='https://pbs.twimg.com/profile_images/1082358814819536896/19QbYCgF_normal.jpg', profile_banner_url='https://pbs.twimg.com/profile_banners/28785486/1505493568', profile_link_color='336699', profile_sidebar_border_color='FFFFFF', profile_sidebar_fill_color='DDEEF6', profile_text_color='333333', profile_use_background_image=True, has_extended_profile=False, default_profile=False, default_profile_image=False, following=False, follow_request_sent=False, notifications=False, translator_type='regular'), user=User(_api=<tweepy.api.API object at 0x0000023D9171C2B0>, _json={'id': 28785486, 'id_str': '28785486', 'name': 'ABC News', 'screen_name': 'ABC', 'location': 'New York City / Worldwide', 'description': 'All the news and information you need to see, curated by the @ABC News team. https://t.co/PKeobr4xt0 Tips: https://t.co/2ICEX6CuXd', 'url': 'https://t.co/B4vihbwCGa', 'entities': {'url': {'urls': [{'url': 'https://t.co/B4vihbwCGa', 'expanded_url': 'https://abcnews.go.com/', 'display_url': 'abcnews.go.com', 'indices': [0, 23]}]}, 'description': {'urls': [{'url': 'https://t.co/PKeobr4xt0', 'expanded_url': 'http://instagram.com/abcnews', 'display_url': 'instagram.com/abcnews', 'indices': [77, 100]}, {'url': 'https://t.co/2ICEX6CuXd', 'expanded_url': 'https://abcn.ws/tips', 'display_url': 'abcn.ws/tips', 'indices': [107, 130]}]}}, 'protected': False, 'followers_count': 16561974, 'friends_count': 516, 'listed_count': 61774, 'created_at': 'Sat Apr 04 12:40:32 +0000 2009', 'favourites_count': 23, 'utc_offset': None, 'time_zone': None, 'geo_enabled': True, 'verified': True, 'statuses_count': 338138, 'lang': None, 'contributors_enabled': False, 'is_translator': False, 'is_translation_enabled': True, 'profile_background_color': '6E8EB5', 'profile_background_image_url': 'http://abs.twimg.com/images/themes/theme1/bg.png', 'profile_background_image_url_https': 'https://abs.twimg.com/images/themes/theme1/bg.png', 'profile_background_tile': False, 'profile_image_url': 'http://pbs.twimg.com/profile_images/1082358814819536896/19QbYCgF_normal.jpg', 'profile_image_url_https': 'https://pbs.twimg.com/profile_images/1082358814819536896/19QbYCgF_normal.jpg', 'profile_banner_url': 'https://pbs.twimg.com/profile_banners/28785486/1505493568', 'profile_link_color': '336699', 'profile_sidebar_border_color': 'FFFFFF', 'profile_sidebar_fill_color': 'DDEEF6', 'profile_text_color': '333333', 'profile_use_background_image': True, 'has_extended_profile': False, 'default_profile': False, 'default_profile_image': False, 'following': False, 'follow_request_sent': False, 'notifications': False, 'translator_type': 'regular'}, id=28785486, id_str='28785486', name='ABC News', screen_name='ABC', location='New York City / Worldwide', description='All the news and information you need to see, curated by the @ABC News team. https://t.co/PKeobr4xt0 Tips: https://t.co/2ICEX6CuXd', url='https://t.co/B4vihbwCGa', entities={'url': {'urls': [{'url': 'https://t.co/B4vihbwCGa', 'expanded_url': 'https://abcnews.go.com/', 'display_url': 'abcnews.go.com', 'indices': [0, 23]}]}, 'description': {'urls': [{'url': 'https://t.co/PKeobr4xt0', 'expanded_url': 'http://instagram.com/abcnews', 'display_url': 'instagram.com/abcnews', 'indices': [77, 100]}, {'url': 'https://t.co/2ICEX6CuXd', 'expanded_url': 'https://abcn.ws/tips', 'display_url': 'abcn.ws/tips', 'indices': [107, 130]}]}}, protected=False, followers_count=16561974, friends_count=516, listed_count=61774, created_at=datetime.datetime(2009, 4, 4, 12, 40, 32), favourites_count=23, utc_offset=None, time_zone=None, geo_enabled=True, verified=True, statuses_count=338138, lang=None, contributors_enabled=False, is_translator=False, is_translation_enabled=True, profile_background_color='6E8EB5', profile_background_image_url='http://abs.twimg.com/images/themes/theme1/bg.png', profile_background_image_url_https='https://abs.twimg.com/images/themes/theme1/bg.png', profile_background_tile=False, profile_image_url='http://pbs.twimg.com/profile_images/1082358814819536896/19QbYCgF_normal.jpg', profile_image_url_https='https://pbs.twimg.com/profile_images/1082358814819536896/19QbYCgF_normal.jpg', profile_banner_url='https://pbs.twimg.com/profile_banners/28785486/1505493568', profile_link_color='336699', profile_sidebar_border_color='FFFFFF', profile_sidebar_fill_color='DDEEF6', profile_text_color='333333', profile_use_background_image=True, has_extended_profile=False, default_profile=False, default_profile_image=False, following=False, follow_request_sent=False, notifications=False, translator_type='regular'), geo=None, coordinates=None, place=None, contributors=None, is_quote_status=False, retweet_count=148, favorite_count=378, favorited=False, retweeted=False, possibly_sensitive=False, lang='en'), is_quote_status=False, retweet_count=148, favorite_count=0, favorited=False, retweeted=False, lang='en')]\n"
     ]
    }
   ],
   "source": [
    "pprint.pprint(raw)"
   ]
  },
  {
   "cell_type": "code",
   "execution_count": null,
   "metadata": {},
   "outputs": [],
   "source": [
    "# raw "
   ]
  },
  {
   "cell_type": "code",
   "execution_count": null,
   "metadata": {},
   "outputs": [],
   "source": [
    "# possible source of extra tweets \n",
    "# https://github.com/thepanacealab/covid19_twitter"
   ]
  },
  {
   "cell_type": "markdown",
   "metadata": {},
   "source": [
    "# Perfecting the code\n",
    "A trail dataset is bein used to test out data cleaning and graphing so that I don't waste my limited api calls \n"
   ]
  },
  {
   "cell_type": "code",
   "execution_count": 68,
   "metadata": {},
   "outputs": [
    {
     "data": {
      "text/html": [
       "<div>\n",
       "<style scoped>\n",
       "    .dataframe tbody tr th:only-of-type {\n",
       "        vertical-align: middle;\n",
       "    }\n",
       "\n",
       "    .dataframe tbody tr th {\n",
       "        vertical-align: top;\n",
       "    }\n",
       "\n",
       "    .dataframe thead th {\n",
       "        text-align: right;\n",
       "    }\n",
       "</style>\n",
       "<table border=\"1\" class=\"dataframe\">\n",
       "  <thead>\n",
       "    <tr style=\"text-align: right;\">\n",
       "      <th></th>\n",
       "      <th>id_str</th>\n",
       "      <th>airline</th>\n",
       "      <th>name</th>\n",
       "      <th>retweet_count</th>\n",
       "      <th>text</th>\n",
       "      <th>created</th>\n",
       "      <th>latitude</th>\n",
       "      <th>longitude</th>\n",
       "    </tr>\n",
       "  </thead>\n",
       "  <tbody>\n",
       "    <tr>\n",
       "      <th>0</th>\n",
       "      <td>5.703061e+17</td>\n",
       "      <td>Virgin America</td>\n",
       "      <td>cairdin</td>\n",
       "      <td>0</td>\n",
       "      <td>@VirginAmerica What @dhepburn said.</td>\n",
       "      <td>2015-02-24 11:35:52 -0800</td>\n",
       "      <td>35.888455</td>\n",
       "      <td>-119.273781</td>\n",
       "    </tr>\n",
       "    <tr>\n",
       "      <th>1</th>\n",
       "      <td>5.703011e+17</td>\n",
       "      <td>Virgin America</td>\n",
       "      <td>jnardino</td>\n",
       "      <td>0</td>\n",
       "      <td>@VirginAmerica plus you've added commercials t...</td>\n",
       "      <td>2015-02-24 11:15:59 -0800</td>\n",
       "      <td>37.770971</td>\n",
       "      <td>-119.941025</td>\n",
       "    </tr>\n",
       "    <tr>\n",
       "      <th>2</th>\n",
       "      <td>5.703011e+17</td>\n",
       "      <td>Virgin America</td>\n",
       "      <td>yvonnalynn</td>\n",
       "      <td>0</td>\n",
       "      <td>@VirginAmerica I didn't today... Must mean I n...</td>\n",
       "      <td>2015-02-24 11:15:48 -0800</td>\n",
       "      <td>35.684863</td>\n",
       "      <td>-119.709299</td>\n",
       "    </tr>\n",
       "    <tr>\n",
       "      <th>3</th>\n",
       "      <td>5.703010e+17</td>\n",
       "      <td>Virgin America</td>\n",
       "      <td>jnardino</td>\n",
       "      <td>0</td>\n",
       "      <td>@VirginAmerica it's really aggressive to blast...</td>\n",
       "      <td>2015-02-24 11:15:36 -0800</td>\n",
       "      <td>37.061159</td>\n",
       "      <td>-119.279135</td>\n",
       "    </tr>\n",
       "    <tr>\n",
       "      <th>4</th>\n",
       "      <td>5.703008e+17</td>\n",
       "      <td>Virgin America</td>\n",
       "      <td>jnardino</td>\n",
       "      <td>0</td>\n",
       "      <td>@VirginAmerica and it's a really big bad thing...</td>\n",
       "      <td>2015-02-24 11:14:45 -0800</td>\n",
       "      <td>36.790587</td>\n",
       "      <td>-120.867752</td>\n",
       "    </tr>\n",
       "  </tbody>\n",
       "</table>\n",
       "</div>"
      ],
      "text/plain": [
       "         id_str         airline        name  retweet_count  \\\n",
       "0  5.703061e+17  Virgin America     cairdin              0   \n",
       "1  5.703011e+17  Virgin America    jnardino              0   \n",
       "2  5.703011e+17  Virgin America  yvonnalynn              0   \n",
       "3  5.703010e+17  Virgin America    jnardino              0   \n",
       "4  5.703008e+17  Virgin America    jnardino              0   \n",
       "\n",
       "                                                text  \\\n",
       "0                @VirginAmerica What @dhepburn said.   \n",
       "1  @VirginAmerica plus you've added commercials t...   \n",
       "2  @VirginAmerica I didn't today... Must mean I n...   \n",
       "3  @VirginAmerica it's really aggressive to blast...   \n",
       "4  @VirginAmerica and it's a really big bad thing...   \n",
       "\n",
       "                     created   latitude   longitude  \n",
       "0  2015-02-24 11:35:52 -0800  35.888455 -119.273781  \n",
       "1  2015-02-24 11:15:59 -0800  37.770971 -119.941025  \n",
       "2  2015-02-24 11:15:48 -0800  35.684863 -119.709299  \n",
       "3  2015-02-24 11:15:36 -0800  37.061159 -119.279135  \n",
       "4  2015-02-24 11:14:45 -0800  36.790587 -120.867752  "
      ]
     },
     "execution_count": 68,
     "metadata": {},
     "output_type": "execute_result"
    }
   ],
   "source": [
    "df = pd.read_csv('Tweets.csv')\n",
    "df = df[['tweet_id', 'airline','name','retweet_count','text', 'tweet_created','latitude', 'longitude']]\n",
    "df = df.rename(columns={'tweet_id':'id_str', 'tweet_created':'created'}) # changed to match output of \n",
    "df.head()\n"
   ]
  },
  {
   "cell_type": "code",
   "execution_count": 69,
   "metadata": {},
   "outputs": [
    {
     "data": {
      "text/plain": [
       "14640"
      ]
     },
     "execution_count": 69,
     "metadata": {},
     "output_type": "execute_result"
    }
   ],
   "source": [
    "len(df)"
   ]
  },
  {
   "cell_type": "code",
   "execution_count": 42,
   "metadata": {},
   "outputs": [
    {
     "data": {
      "text/plain": [
       "14485"
      ]
     },
     "execution_count": 42,
     "metadata": {},
     "output_type": "execute_result"
    }
   ],
   "source": [
    "df = df.drop_duplicates(subset='id_str')\n",
    "len(df)"
   ]
  },
  {
   "cell_type": "code",
   "execution_count": 72,
   "metadata": {},
   "outputs": [
    {
     "data": {
      "text/html": [
       "<div>\n",
       "<style scoped>\n",
       "    .dataframe tbody tr th:only-of-type {\n",
       "        vertical-align: middle;\n",
       "    }\n",
       "\n",
       "    .dataframe tbody tr th {\n",
       "        vertical-align: top;\n",
       "    }\n",
       "\n",
       "    .dataframe thead th {\n",
       "        text-align: right;\n",
       "    }\n",
       "</style>\n",
       "<table border=\"1\" class=\"dataframe\">\n",
       "  <thead>\n",
       "    <tr style=\"text-align: right;\">\n",
       "      <th></th>\n",
       "      <th>id_str</th>\n",
       "      <th>airline</th>\n",
       "      <th>name</th>\n",
       "      <th>retweet_count</th>\n",
       "      <th>text</th>\n",
       "      <th>latitude</th>\n",
       "      <th>longitude</th>\n",
       "      <th>date</th>\n",
       "    </tr>\n",
       "  </thead>\n",
       "  <tbody>\n",
       "    <tr>\n",
       "      <th>0</th>\n",
       "      <td>5.703061e+17</td>\n",
       "      <td>Virgin America</td>\n",
       "      <td>cairdin</td>\n",
       "      <td>0</td>\n",
       "      <td>@VirginAmerica What @dhepburn said.</td>\n",
       "      <td>35.888455</td>\n",
       "      <td>-119.273781</td>\n",
       "      <td>2015-02-24</td>\n",
       "    </tr>\n",
       "    <tr>\n",
       "      <th>1</th>\n",
       "      <td>5.703011e+17</td>\n",
       "      <td>Virgin America</td>\n",
       "      <td>jnardino</td>\n",
       "      <td>0</td>\n",
       "      <td>@VirginAmerica plus you've added commercials t...</td>\n",
       "      <td>37.770971</td>\n",
       "      <td>-119.941025</td>\n",
       "      <td>2015-02-24</td>\n",
       "    </tr>\n",
       "    <tr>\n",
       "      <th>2</th>\n",
       "      <td>5.703011e+17</td>\n",
       "      <td>Virgin America</td>\n",
       "      <td>yvonnalynn</td>\n",
       "      <td>0</td>\n",
       "      <td>@VirginAmerica I didn't today... Must mean I n...</td>\n",
       "      <td>35.684863</td>\n",
       "      <td>-119.709299</td>\n",
       "      <td>2015-02-24</td>\n",
       "    </tr>\n",
       "    <tr>\n",
       "      <th>3</th>\n",
       "      <td>5.703010e+17</td>\n",
       "      <td>Virgin America</td>\n",
       "      <td>jnardino</td>\n",
       "      <td>0</td>\n",
       "      <td>@VirginAmerica it's really aggressive to blast...</td>\n",
       "      <td>37.061159</td>\n",
       "      <td>-119.279135</td>\n",
       "      <td>2015-02-24</td>\n",
       "    </tr>\n",
       "    <tr>\n",
       "      <th>4</th>\n",
       "      <td>5.703008e+17</td>\n",
       "      <td>Virgin America</td>\n",
       "      <td>jnardino</td>\n",
       "      <td>0</td>\n",
       "      <td>@VirginAmerica and it's a really big bad thing...</td>\n",
       "      <td>36.790587</td>\n",
       "      <td>-120.867752</td>\n",
       "      <td>2015-02-24</td>\n",
       "    </tr>\n",
       "  </tbody>\n",
       "</table>\n",
       "</div>"
      ],
      "text/plain": [
       "         id_str         airline        name  retweet_count  \\\n",
       "0  5.703061e+17  Virgin America     cairdin              0   \n",
       "1  5.703011e+17  Virgin America    jnardino              0   \n",
       "2  5.703011e+17  Virgin America  yvonnalynn              0   \n",
       "3  5.703010e+17  Virgin America    jnardino              0   \n",
       "4  5.703008e+17  Virgin America    jnardino              0   \n",
       "\n",
       "                                                text   latitude   longitude  \\\n",
       "0                @VirginAmerica What @dhepburn said.  35.888455 -119.273781   \n",
       "1  @VirginAmerica plus you've added commercials t...  37.770971 -119.941025   \n",
       "2  @VirginAmerica I didn't today... Must mean I n...  35.684863 -119.709299   \n",
       "3  @VirginAmerica it's really aggressive to blast...  37.061159 -119.279135   \n",
       "4  @VirginAmerica and it's a really big bad thing...  36.790587 -120.867752   \n",
       "\n",
       "         date  \n",
       "0  2015-02-24  \n",
       "1  2015-02-24  \n",
       "2  2015-02-24  \n",
       "3  2015-02-24  \n",
       "4  2015-02-24  "
      ]
     },
     "execution_count": 72,
     "metadata": {},
     "output_type": "execute_result"
    }
   ],
   "source": [
    "df['date'] = df['created'].str.split(' ').str[0]\n",
    "df= df.drop(columns=['created'])\n",
    "df.head()"
   ]
  },
  {
   "cell_type": "code",
   "execution_count": 75,
   "metadata": {},
   "outputs": [
    {
     "name": "stdout",
     "output_type": "stream",
     "text": [
      "<class 'pandas.core.frame.DataFrame'>\n",
      "RangeIndex: 14640 entries, 0 to 14639\n",
      "Data columns (total 8 columns):\n",
      " #   Column         Non-Null Count  Dtype         \n",
      "---  ------         --------------  -----         \n",
      " 0   id_str         14640 non-null  float64       \n",
      " 1   airline        14640 non-null  object        \n",
      " 2   name           14640 non-null  object        \n",
      " 3   retweet_count  14640 non-null  int64         \n",
      " 4   text           14640 non-null  object        \n",
      " 5   latitude       14640 non-null  float64       \n",
      " 6   longitude      14640 non-null  float64       \n",
      " 7   date           14640 non-null  datetime64[ns]\n",
      "dtypes: datetime64[ns](1), float64(3), int64(1), object(3)\n",
      "memory usage: 915.1+ KB\n"
     ]
    }
   ],
   "source": [
    "df['date'] = pd.to_datetime(df['date'])\n",
    "df.info()"
   ]
  },
  {
   "cell_type": "code",
   "execution_count": 73,
   "metadata": {},
   "outputs": [],
   "source": [
    "def CleanFrame(df):\n",
    "    df = df.drop_duplicates(subset='id_str')\n",
    "    df['date'] = df['created'].str.split(' ').str[0]\n",
    "    df = df.drop(columns=['created'])\n",
    "    df['date'] = pd.to_datetime(df['date'])\n",
    "    return df\n",
    "\n",
    "    \n",
    "    "
   ]
  },
  {
   "cell_type": "code",
   "execution_count": 74,
   "metadata": {},
   "outputs": [
    {
     "ename": "KeyError",
     "evalue": "'created'",
     "output_type": "error",
     "traceback": [
      "\u001b[1;31m---------------------------------------------------------------------------\u001b[0m",
      "\u001b[1;31mKeyError\u001b[0m                                  Traceback (most recent call last)",
      "\u001b[1;32m~\\anaconda3\\lib\\site-packages\\pandas\\core\\indexes\\base.py\u001b[0m in \u001b[0;36mget_loc\u001b[1;34m(self, key, method, tolerance)\u001b[0m\n\u001b[0;32m   2645\u001b[0m             \u001b[1;32mtry\u001b[0m\u001b[1;33m:\u001b[0m\u001b[1;33m\u001b[0m\u001b[1;33m\u001b[0m\u001b[0m\n\u001b[1;32m-> 2646\u001b[1;33m                 \u001b[1;32mreturn\u001b[0m \u001b[0mself\u001b[0m\u001b[1;33m.\u001b[0m\u001b[0m_engine\u001b[0m\u001b[1;33m.\u001b[0m\u001b[0mget_loc\u001b[0m\u001b[1;33m(\u001b[0m\u001b[0mkey\u001b[0m\u001b[1;33m)\u001b[0m\u001b[1;33m\u001b[0m\u001b[1;33m\u001b[0m\u001b[0m\n\u001b[0m\u001b[0;32m   2647\u001b[0m             \u001b[1;32mexcept\u001b[0m \u001b[0mKeyError\u001b[0m\u001b[1;33m:\u001b[0m\u001b[1;33m\u001b[0m\u001b[1;33m\u001b[0m\u001b[0m\n",
      "\u001b[1;32mpandas\\_libs\\index.pyx\u001b[0m in \u001b[0;36mpandas._libs.index.IndexEngine.get_loc\u001b[1;34m()\u001b[0m\n",
      "\u001b[1;32mpandas\\_libs\\index.pyx\u001b[0m in \u001b[0;36mpandas._libs.index.IndexEngine.get_loc\u001b[1;34m()\u001b[0m\n",
      "\u001b[1;32mpandas\\_libs\\hashtable_class_helper.pxi\u001b[0m in \u001b[0;36mpandas._libs.hashtable.PyObjectHashTable.get_item\u001b[1;34m()\u001b[0m\n",
      "\u001b[1;32mpandas\\_libs\\hashtable_class_helper.pxi\u001b[0m in \u001b[0;36mpandas._libs.hashtable.PyObjectHashTable.get_item\u001b[1;34m()\u001b[0m\n",
      "\u001b[1;31mKeyError\u001b[0m: 'created'",
      "\nDuring handling of the above exception, another exception occurred:\n",
      "\u001b[1;31mKeyError\u001b[0m                                  Traceback (most recent call last)",
      "\u001b[1;32m<ipython-input-74-0cdd04faf950>\u001b[0m in \u001b[0;36m<module>\u001b[1;34m\u001b[0m\n\u001b[1;32m----> 1\u001b[1;33m \u001b[0mCleanFrame\u001b[0m\u001b[1;33m(\u001b[0m\u001b[0mdf\u001b[0m\u001b[1;33m)\u001b[0m\u001b[1;33m\u001b[0m\u001b[1;33m\u001b[0m\u001b[0m\n\u001b[0m\u001b[0;32m      2\u001b[0m \u001b[0mdf\u001b[0m\u001b[1;33m.\u001b[0m\u001b[0mhead\u001b[0m\u001b[1;33m(\u001b[0m\u001b[1;33m)\u001b[0m\u001b[1;33m\u001b[0m\u001b[1;33m\u001b[0m\u001b[0m\n",
      "\u001b[1;32m<ipython-input-73-ee8894cf9e82>\u001b[0m in \u001b[0;36mCleanFrame\u001b[1;34m(df)\u001b[0m\n\u001b[0;32m      1\u001b[0m \u001b[1;32mdef\u001b[0m \u001b[0mCleanFrame\u001b[0m\u001b[1;33m(\u001b[0m\u001b[0mdf\u001b[0m\u001b[1;33m)\u001b[0m\u001b[1;33m:\u001b[0m\u001b[1;33m\u001b[0m\u001b[1;33m\u001b[0m\u001b[0m\n\u001b[0;32m      2\u001b[0m     \u001b[0mdf\u001b[0m \u001b[1;33m=\u001b[0m \u001b[0mdf\u001b[0m\u001b[1;33m.\u001b[0m\u001b[0mdrop_duplicates\u001b[0m\u001b[1;33m(\u001b[0m\u001b[0msubset\u001b[0m\u001b[1;33m=\u001b[0m\u001b[1;34m'id_str'\u001b[0m\u001b[1;33m)\u001b[0m\u001b[1;33m\u001b[0m\u001b[1;33m\u001b[0m\u001b[0m\n\u001b[1;32m----> 3\u001b[1;33m     \u001b[0mdf\u001b[0m\u001b[1;33m[\u001b[0m\u001b[1;34m'date'\u001b[0m\u001b[1;33m]\u001b[0m \u001b[1;33m=\u001b[0m \u001b[0mdf\u001b[0m\u001b[1;33m[\u001b[0m\u001b[1;34m'created'\u001b[0m\u001b[1;33m]\u001b[0m\u001b[1;33m.\u001b[0m\u001b[0mstr\u001b[0m\u001b[1;33m.\u001b[0m\u001b[0msplit\u001b[0m\u001b[1;33m(\u001b[0m\u001b[1;34m' '\u001b[0m\u001b[1;33m)\u001b[0m\u001b[1;33m.\u001b[0m\u001b[0mstr\u001b[0m\u001b[1;33m[\u001b[0m\u001b[1;36m0\u001b[0m\u001b[1;33m]\u001b[0m\u001b[1;33m\u001b[0m\u001b[1;33m\u001b[0m\u001b[0m\n\u001b[0m\u001b[0;32m      4\u001b[0m     \u001b[0mdf\u001b[0m \u001b[1;33m=\u001b[0m \u001b[0mdf\u001b[0m\u001b[1;33m.\u001b[0m\u001b[0mdrop\u001b[0m\u001b[1;33m(\u001b[0m\u001b[0mcolumns\u001b[0m\u001b[1;33m=\u001b[0m\u001b[1;33m[\u001b[0m\u001b[1;34m'created'\u001b[0m\u001b[1;33m]\u001b[0m\u001b[1;33m)\u001b[0m\u001b[1;33m\u001b[0m\u001b[1;33m\u001b[0m\u001b[0m\n\u001b[0;32m      5\u001b[0m     \u001b[0mdf\u001b[0m\u001b[1;33m[\u001b[0m\u001b[1;34m'date'\u001b[0m\u001b[1;33m]\u001b[0m \u001b[1;33m=\u001b[0m \u001b[0mpd\u001b[0m\u001b[1;33m.\u001b[0m\u001b[0mto_datetime\u001b[0m\u001b[1;33m(\u001b[0m\u001b[0mdf\u001b[0m\u001b[1;33m[\u001b[0m\u001b[1;34m'date'\u001b[0m\u001b[1;33m]\u001b[0m\u001b[1;33m)\u001b[0m\u001b[1;33m\u001b[0m\u001b[1;33m\u001b[0m\u001b[0m\n",
      "\u001b[1;32m~\\anaconda3\\lib\\site-packages\\pandas\\core\\frame.py\u001b[0m in \u001b[0;36m__getitem__\u001b[1;34m(self, key)\u001b[0m\n\u001b[0;32m   2798\u001b[0m             \u001b[1;32mif\u001b[0m \u001b[0mself\u001b[0m\u001b[1;33m.\u001b[0m\u001b[0mcolumns\u001b[0m\u001b[1;33m.\u001b[0m\u001b[0mnlevels\u001b[0m \u001b[1;33m>\u001b[0m \u001b[1;36m1\u001b[0m\u001b[1;33m:\u001b[0m\u001b[1;33m\u001b[0m\u001b[1;33m\u001b[0m\u001b[0m\n\u001b[0;32m   2799\u001b[0m                 \u001b[1;32mreturn\u001b[0m \u001b[0mself\u001b[0m\u001b[1;33m.\u001b[0m\u001b[0m_getitem_multilevel\u001b[0m\u001b[1;33m(\u001b[0m\u001b[0mkey\u001b[0m\u001b[1;33m)\u001b[0m\u001b[1;33m\u001b[0m\u001b[1;33m\u001b[0m\u001b[0m\n\u001b[1;32m-> 2800\u001b[1;33m             \u001b[0mindexer\u001b[0m \u001b[1;33m=\u001b[0m \u001b[0mself\u001b[0m\u001b[1;33m.\u001b[0m\u001b[0mcolumns\u001b[0m\u001b[1;33m.\u001b[0m\u001b[0mget_loc\u001b[0m\u001b[1;33m(\u001b[0m\u001b[0mkey\u001b[0m\u001b[1;33m)\u001b[0m\u001b[1;33m\u001b[0m\u001b[1;33m\u001b[0m\u001b[0m\n\u001b[0m\u001b[0;32m   2801\u001b[0m             \u001b[1;32mif\u001b[0m \u001b[0mis_integer\u001b[0m\u001b[1;33m(\u001b[0m\u001b[0mindexer\u001b[0m\u001b[1;33m)\u001b[0m\u001b[1;33m:\u001b[0m\u001b[1;33m\u001b[0m\u001b[1;33m\u001b[0m\u001b[0m\n\u001b[0;32m   2802\u001b[0m                 \u001b[0mindexer\u001b[0m \u001b[1;33m=\u001b[0m \u001b[1;33m[\u001b[0m\u001b[0mindexer\u001b[0m\u001b[1;33m]\u001b[0m\u001b[1;33m\u001b[0m\u001b[1;33m\u001b[0m\u001b[0m\n",
      "\u001b[1;32m~\\anaconda3\\lib\\site-packages\\pandas\\core\\indexes\\base.py\u001b[0m in \u001b[0;36mget_loc\u001b[1;34m(self, key, method, tolerance)\u001b[0m\n\u001b[0;32m   2646\u001b[0m                 \u001b[1;32mreturn\u001b[0m \u001b[0mself\u001b[0m\u001b[1;33m.\u001b[0m\u001b[0m_engine\u001b[0m\u001b[1;33m.\u001b[0m\u001b[0mget_loc\u001b[0m\u001b[1;33m(\u001b[0m\u001b[0mkey\u001b[0m\u001b[1;33m)\u001b[0m\u001b[1;33m\u001b[0m\u001b[1;33m\u001b[0m\u001b[0m\n\u001b[0;32m   2647\u001b[0m             \u001b[1;32mexcept\u001b[0m \u001b[0mKeyError\u001b[0m\u001b[1;33m:\u001b[0m\u001b[1;33m\u001b[0m\u001b[1;33m\u001b[0m\u001b[0m\n\u001b[1;32m-> 2648\u001b[1;33m                 \u001b[1;32mreturn\u001b[0m \u001b[0mself\u001b[0m\u001b[1;33m.\u001b[0m\u001b[0m_engine\u001b[0m\u001b[1;33m.\u001b[0m\u001b[0mget_loc\u001b[0m\u001b[1;33m(\u001b[0m\u001b[0mself\u001b[0m\u001b[1;33m.\u001b[0m\u001b[0m_maybe_cast_indexer\u001b[0m\u001b[1;33m(\u001b[0m\u001b[0mkey\u001b[0m\u001b[1;33m)\u001b[0m\u001b[1;33m)\u001b[0m\u001b[1;33m\u001b[0m\u001b[1;33m\u001b[0m\u001b[0m\n\u001b[0m\u001b[0;32m   2649\u001b[0m         \u001b[0mindexer\u001b[0m \u001b[1;33m=\u001b[0m \u001b[0mself\u001b[0m\u001b[1;33m.\u001b[0m\u001b[0mget_indexer\u001b[0m\u001b[1;33m(\u001b[0m\u001b[1;33m[\u001b[0m\u001b[0mkey\u001b[0m\u001b[1;33m]\u001b[0m\u001b[1;33m,\u001b[0m \u001b[0mmethod\u001b[0m\u001b[1;33m=\u001b[0m\u001b[0mmethod\u001b[0m\u001b[1;33m,\u001b[0m \u001b[0mtolerance\u001b[0m\u001b[1;33m=\u001b[0m\u001b[0mtolerance\u001b[0m\u001b[1;33m)\u001b[0m\u001b[1;33m\u001b[0m\u001b[1;33m\u001b[0m\u001b[0m\n\u001b[0;32m   2650\u001b[0m         \u001b[1;32mif\u001b[0m \u001b[0mindexer\u001b[0m\u001b[1;33m.\u001b[0m\u001b[0mndim\u001b[0m \u001b[1;33m>\u001b[0m \u001b[1;36m1\u001b[0m \u001b[1;32mor\u001b[0m \u001b[0mindexer\u001b[0m\u001b[1;33m.\u001b[0m\u001b[0msize\u001b[0m \u001b[1;33m>\u001b[0m \u001b[1;36m1\u001b[0m\u001b[1;33m:\u001b[0m\u001b[1;33m\u001b[0m\u001b[1;33m\u001b[0m\u001b[0m\n",
      "\u001b[1;32mpandas\\_libs\\index.pyx\u001b[0m in \u001b[0;36mpandas._libs.index.IndexEngine.get_loc\u001b[1;34m()\u001b[0m\n",
      "\u001b[1;32mpandas\\_libs\\index.pyx\u001b[0m in \u001b[0;36mpandas._libs.index.IndexEngine.get_loc\u001b[1;34m()\u001b[0m\n",
      "\u001b[1;32mpandas\\_libs\\hashtable_class_helper.pxi\u001b[0m in \u001b[0;36mpandas._libs.hashtable.PyObjectHashTable.get_item\u001b[1;34m()\u001b[0m\n",
      "\u001b[1;32mpandas\\_libs\\hashtable_class_helper.pxi\u001b[0m in \u001b[0;36mpandas._libs.hashtable.PyObjectHashTable.get_item\u001b[1;34m()\u001b[0m\n",
      "\u001b[1;31mKeyError\u001b[0m: 'created'"
     ]
    }
   ],
   "source": [
    "CleanFrame(df)\n",
    "df.head()"
   ]
  },
  {
   "cell_type": "code",
   "execution_count": 31,
   "metadata": {},
   "outputs": [],
   "source": [
    "def CleanTweets(txt): \n",
    "    # remove @ username \n",
    "    # txt = re.sub(r'@[A-Za-z0-9)]+','', txt)\n",
    "    \n",
    "    # remove RT    \n",
    "    txt = re.sub(r'RT[\\s]+','',txt)\n",
    "    \n",
    "    # remove @ from username\n",
    "    txt = txt.replace('@','')\n",
    "    \n",
    "    # remove # but leave txt\n",
    "    txt = re.sub(r'#','', txt)\n",
    "    \n",
    "    # remove hyperlinks\n",
    "    txt = re.sub(r'https?:\\/\\/\\S+', '', txt)\n",
    "    \n",
    "    return txt"
   ]
  },
  {
   "cell_type": "code",
   "execution_count": 80,
   "metadata": {},
   "outputs": [
    {
     "data": {
      "text/html": [
       "<div>\n",
       "<style scoped>\n",
       "    .dataframe tbody tr th:only-of-type {\n",
       "        vertical-align: middle;\n",
       "    }\n",
       "\n",
       "    .dataframe tbody tr th {\n",
       "        vertical-align: top;\n",
       "    }\n",
       "\n",
       "    .dataframe thead th {\n",
       "        text-align: right;\n",
       "    }\n",
       "</style>\n",
       "<table border=\"1\" class=\"dataframe\">\n",
       "  <thead>\n",
       "    <tr style=\"text-align: right;\">\n",
       "      <th></th>\n",
       "      <th>id_str</th>\n",
       "      <th>airline</th>\n",
       "      <th>name</th>\n",
       "      <th>retweet_count</th>\n",
       "      <th>text</th>\n",
       "      <th>latitude</th>\n",
       "      <th>longitude</th>\n",
       "      <th>date</th>\n",
       "      <th>Subjectivity</th>\n",
       "      <th>Polarity</th>\n",
       "    </tr>\n",
       "  </thead>\n",
       "  <tbody>\n",
       "    <tr>\n",
       "      <th>0</th>\n",
       "      <td>5.703061e+17</td>\n",
       "      <td>Virgin America</td>\n",
       "      <td>cairdin</td>\n",
       "      <td>0</td>\n",
       "      <td>VirginAmerica What dhepburn said.</td>\n",
       "      <td>35.888455</td>\n",
       "      <td>-119.273781</td>\n",
       "      <td>2015-02-24</td>\n",
       "      <td>0.000000</td>\n",
       "      <td>0.000000</td>\n",
       "    </tr>\n",
       "    <tr>\n",
       "      <th>1</th>\n",
       "      <td>5.703011e+17</td>\n",
       "      <td>Virgin America</td>\n",
       "      <td>jnardino</td>\n",
       "      <td>0</td>\n",
       "      <td>VirginAmerica plus you've added commercials to...</td>\n",
       "      <td>37.770971</td>\n",
       "      <td>-119.941025</td>\n",
       "      <td>2015-02-24</td>\n",
       "      <td>0.000000</td>\n",
       "      <td>0.000000</td>\n",
       "    </tr>\n",
       "    <tr>\n",
       "      <th>2</th>\n",
       "      <td>5.703011e+17</td>\n",
       "      <td>Virgin America</td>\n",
       "      <td>yvonnalynn</td>\n",
       "      <td>0</td>\n",
       "      <td>VirginAmerica I didn't today... Must mean I ne...</td>\n",
       "      <td>35.684863</td>\n",
       "      <td>-119.709299</td>\n",
       "      <td>2015-02-24</td>\n",
       "      <td>0.687500</td>\n",
       "      <td>-0.390625</td>\n",
       "    </tr>\n",
       "    <tr>\n",
       "      <th>3</th>\n",
       "      <td>5.703010e+17</td>\n",
       "      <td>Virgin America</td>\n",
       "      <td>jnardino</td>\n",
       "      <td>0</td>\n",
       "      <td>VirginAmerica it's really aggressive to blast ...</td>\n",
       "      <td>37.061159</td>\n",
       "      <td>-119.279135</td>\n",
       "      <td>2015-02-24</td>\n",
       "      <td>0.350000</td>\n",
       "      <td>0.006250</td>\n",
       "    </tr>\n",
       "    <tr>\n",
       "      <th>4</th>\n",
       "      <td>5.703008e+17</td>\n",
       "      <td>Virgin America</td>\n",
       "      <td>jnardino</td>\n",
       "      <td>0</td>\n",
       "      <td>VirginAmerica and it's a really big bad thing ...</td>\n",
       "      <td>36.790587</td>\n",
       "      <td>-120.867752</td>\n",
       "      <td>2015-02-24</td>\n",
       "      <td>0.383333</td>\n",
       "      <td>-0.350000</td>\n",
       "    </tr>\n",
       "  </tbody>\n",
       "</table>\n",
       "</div>"
      ],
      "text/plain": [
       "         id_str         airline        name  retweet_count  \\\n",
       "0  5.703061e+17  Virgin America     cairdin              0   \n",
       "1  5.703011e+17  Virgin America    jnardino              0   \n",
       "2  5.703011e+17  Virgin America  yvonnalynn              0   \n",
       "3  5.703010e+17  Virgin America    jnardino              0   \n",
       "4  5.703008e+17  Virgin America    jnardino              0   \n",
       "\n",
       "                                                text   latitude   longitude  \\\n",
       "0                  VirginAmerica What dhepburn said.  35.888455 -119.273781   \n",
       "1  VirginAmerica plus you've added commercials to...  37.770971 -119.941025   \n",
       "2  VirginAmerica I didn't today... Must mean I ne...  35.684863 -119.709299   \n",
       "3  VirginAmerica it's really aggressive to blast ...  37.061159 -119.279135   \n",
       "4  VirginAmerica and it's a really big bad thing ...  36.790587 -120.867752   \n",
       "\n",
       "        date  Subjectivity  Polarity  \n",
       "0 2015-02-24      0.000000  0.000000  \n",
       "1 2015-02-24      0.000000  0.000000  \n",
       "2 2015-02-24      0.687500 -0.390625  \n",
       "3 2015-02-24      0.350000  0.006250  \n",
       "4 2015-02-24      0.383333 -0.350000  "
      ]
     },
     "execution_count": 80,
     "metadata": {},
     "output_type": "execute_result"
    }
   ],
   "source": [
    "df['text'] = df['text'].apply(CleanTweet)\n",
    "df.head()"
   ]
  },
  {
   "cell_type": "code",
   "execution_count": 76,
   "metadata": {},
   "outputs": [],
   "source": [
    "# to get subjectivity \n",
    "def RateSubjectivity(txt):\n",
    "    return TextBlob(txt).sentiment.subjectivity"
   ]
  },
  {
   "cell_type": "code",
   "execution_count": 77,
   "metadata": {},
   "outputs": [],
   "source": [
    "# to get polarity\n",
    "def RatePolarity(txt):\n",
    "    return TextBlob(txt).sentiment.polarity"
   ]
  },
  {
   "cell_type": "code",
   "execution_count": 81,
   "metadata": {},
   "outputs": [
    {
     "data": {
      "text/html": [
       "<div>\n",
       "<style scoped>\n",
       "    .dataframe tbody tr th:only-of-type {\n",
       "        vertical-align: middle;\n",
       "    }\n",
       "\n",
       "    .dataframe tbody tr th {\n",
       "        vertical-align: top;\n",
       "    }\n",
       "\n",
       "    .dataframe thead th {\n",
       "        text-align: right;\n",
       "    }\n",
       "</style>\n",
       "<table border=\"1\" class=\"dataframe\">\n",
       "  <thead>\n",
       "    <tr style=\"text-align: right;\">\n",
       "      <th></th>\n",
       "      <th>id_str</th>\n",
       "      <th>airline</th>\n",
       "      <th>name</th>\n",
       "      <th>retweet_count</th>\n",
       "      <th>text</th>\n",
       "      <th>latitude</th>\n",
       "      <th>longitude</th>\n",
       "      <th>date</th>\n",
       "      <th>Subjectivity</th>\n",
       "      <th>Polarity</th>\n",
       "    </tr>\n",
       "  </thead>\n",
       "  <tbody>\n",
       "    <tr>\n",
       "      <th>0</th>\n",
       "      <td>5.703061e+17</td>\n",
       "      <td>Virgin America</td>\n",
       "      <td>cairdin</td>\n",
       "      <td>0</td>\n",
       "      <td>VirginAmerica What dhepburn said.</td>\n",
       "      <td>35.888455</td>\n",
       "      <td>-119.273781</td>\n",
       "      <td>2015-02-24</td>\n",
       "      <td>0.000000</td>\n",
       "      <td>0.000000</td>\n",
       "    </tr>\n",
       "    <tr>\n",
       "      <th>1</th>\n",
       "      <td>5.703011e+17</td>\n",
       "      <td>Virgin America</td>\n",
       "      <td>jnardino</td>\n",
       "      <td>0</td>\n",
       "      <td>VirginAmerica plus you've added commercials to...</td>\n",
       "      <td>37.770971</td>\n",
       "      <td>-119.941025</td>\n",
       "      <td>2015-02-24</td>\n",
       "      <td>0.000000</td>\n",
       "      <td>0.000000</td>\n",
       "    </tr>\n",
       "    <tr>\n",
       "      <th>2</th>\n",
       "      <td>5.703011e+17</td>\n",
       "      <td>Virgin America</td>\n",
       "      <td>yvonnalynn</td>\n",
       "      <td>0</td>\n",
       "      <td>VirginAmerica I didn't today... Must mean I ne...</td>\n",
       "      <td>35.684863</td>\n",
       "      <td>-119.709299</td>\n",
       "      <td>2015-02-24</td>\n",
       "      <td>0.687500</td>\n",
       "      <td>-0.390625</td>\n",
       "    </tr>\n",
       "    <tr>\n",
       "      <th>3</th>\n",
       "      <td>5.703010e+17</td>\n",
       "      <td>Virgin America</td>\n",
       "      <td>jnardino</td>\n",
       "      <td>0</td>\n",
       "      <td>VirginAmerica it's really aggressive to blast ...</td>\n",
       "      <td>37.061159</td>\n",
       "      <td>-119.279135</td>\n",
       "      <td>2015-02-24</td>\n",
       "      <td>0.350000</td>\n",
       "      <td>0.006250</td>\n",
       "    </tr>\n",
       "    <tr>\n",
       "      <th>4</th>\n",
       "      <td>5.703008e+17</td>\n",
       "      <td>Virgin America</td>\n",
       "      <td>jnardino</td>\n",
       "      <td>0</td>\n",
       "      <td>VirginAmerica and it's a really big bad thing ...</td>\n",
       "      <td>36.790587</td>\n",
       "      <td>-120.867752</td>\n",
       "      <td>2015-02-24</td>\n",
       "      <td>0.383333</td>\n",
       "      <td>-0.350000</td>\n",
       "    </tr>\n",
       "  </tbody>\n",
       "</table>\n",
       "</div>"
      ],
      "text/plain": [
       "         id_str         airline        name  retweet_count  \\\n",
       "0  5.703061e+17  Virgin America     cairdin              0   \n",
       "1  5.703011e+17  Virgin America    jnardino              0   \n",
       "2  5.703011e+17  Virgin America  yvonnalynn              0   \n",
       "3  5.703010e+17  Virgin America    jnardino              0   \n",
       "4  5.703008e+17  Virgin America    jnardino              0   \n",
       "\n",
       "                                                text   latitude   longitude  \\\n",
       "0                  VirginAmerica What dhepburn said.  35.888455 -119.273781   \n",
       "1  VirginAmerica plus you've added commercials to...  37.770971 -119.941025   \n",
       "2  VirginAmerica I didn't today... Must mean I ne...  35.684863 -119.709299   \n",
       "3  VirginAmerica it's really aggressive to blast ...  37.061159 -119.279135   \n",
       "4  VirginAmerica and it's a really big bad thing ...  36.790587 -120.867752   \n",
       "\n",
       "        date  Subjectivity  Polarity  \n",
       "0 2015-02-24      0.000000  0.000000  \n",
       "1 2015-02-24      0.000000  0.000000  \n",
       "2 2015-02-24      0.687500 -0.390625  \n",
       "3 2015-02-24      0.350000  0.006250  \n",
       "4 2015-02-24      0.383333 -0.350000  "
      ]
     },
     "execution_count": 81,
     "metadata": {},
     "output_type": "execute_result"
    }
   ],
   "source": [
    "# Create Columns\n",
    "df['Subjectivity'] = df['text'].apply(RateSubjectivity)\n",
    "df['Polarity'] = df['text'].apply(RatePolarity)\n",
    "df.head()"
   ]
  },
  {
   "cell_type": "code",
   "execution_count": null,
   "metadata": {},
   "outputs": [],
   "source": [
    "# Plot Word Cloud\n"
   ]
  }
 ],
 "metadata": {
  "kernelspec": {
   "display_name": "Python 3",
   "language": "python",
   "name": "python3"
  },
  "language_info": {
   "codemirror_mode": {
    "name": "ipython",
    "version": 3
   },
   "file_extension": ".py",
   "mimetype": "text/x-python",
   "name": "python",
   "nbconvert_exporter": "python",
   "pygments_lexer": "ipython3",
   "version": "3.8.3"
  }
 },
 "nbformat": 4,
 "nbformat_minor": 4
}
